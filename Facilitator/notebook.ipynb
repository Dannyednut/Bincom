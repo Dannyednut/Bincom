{
 "cells": [
  {
   "cell_type": "markdown",
   "id": "3173c4dd",
   "metadata": {},
   "source": [
    "## Strings"
   ]
  },
  {
   "cell_type": "markdown",
   "id": "c943482a",
   "metadata": {},
   "source": [
    "```\n",
    "\"This is a String\"\n",
    "```\n",
    "Strings are quite simple at first glance,\n",
    "but you can use them in many different ways.\n",
    "\n",
    "A string is a series of characters. Anything inside quotes is considered a\n",
    "string in Python, and you can use single or double quotes around your\n",
    "strings like this:\n",
    "```\n",
    "\"This is a string.\"\n",
    "'This is also a string.'\n",
    "```\n",
    "\n",
    "This flexibility allows you to use quotes and apostrophes within your\n",
    "strings:\n",
    "```\n",
    "'I told my friend, \"Python is my favorite language!\"'\n",
    "\"The language 'Python' is named after Monty Python, not the snake.\"\n",
    "\"One of Python's strengths is its diverse and supportive community.\"\n",
    "```"
   ]
  },
  {
   "cell_type": "markdown",
   "id": "f46656e9",
   "metadata": {},
   "source": [
    "#### Changing Case in a String with Methods"
   ]
  },
  {
   "cell_type": "markdown",
   "id": "f96c3e94",
   "metadata": {},
   "source": [
    "One of the simplest tasks you can do with strings is change the case of the\n",
    "words in a string. Look at the following code, and try to determine what’s\n",
    "happening:\n",
    "`name.py`\n",
    "```\n",
    "name = \"ada lovelace\"\n",
    "print(name.title())\n",
    "```\n",
    "The method `title()` appears after the variable in the `print()` call. \n",
    "\n",
    "A method is an action that Python can perform on a piece of data. The dot (`.`)\n",
    "after name in `name.title()` tells Python to make the `title()` method act on the\n",
    "variable name\n",
    "\n",
    "`Output: Ada Lovelace`\n",
    "\n",
    "Several other useful methods are available for dealing with case as well.\n",
    "\n",
    "For example, you can change a string to all uppercase or all lowercase letters\n",
    "like this:\n",
    "\n",
    "```\n",
    "name = \"Ada Lovelace\"\n",
    "print(name.upper())\n",
    "print(name.lower())\n",
    "```\n",
    "This will display the following:\n"
   ]
  },
  {
   "cell_type": "code",
   "execution_count": 1,
   "id": "2c38be26",
   "metadata": {},
   "outputs": [
    {
     "name": "stdout",
     "output_type": "stream",
     "text": [
      "ADA LOVELACE\n",
      "ada lovelace\n"
     ]
    }
   ],
   "source": [
    "name = \"Ada Lovelace\"\n",
    "print(name.upper())\n",
    "print(name.lower())"
   ]
  },
  {
   "cell_type": "markdown",
   "id": "c36b9c01",
   "metadata": {},
   "source": [
    "#### String Concatenation and Formatting\n"
   ]
  },
  {
   "cell_type": "markdown",
   "id": "da1f60fb",
   "metadata": {},
   "source": [
    "To concatenate, or combine, two strings you can use the + operator.\n",
    "\n",
    "```\n",
    "a = \"first string\"\n",
    "b = \"second string\"\n",
    "c = a + b\n",
    "print(c)\n",
    "```"
   ]
  },
  {
   "cell_type": "code",
   "execution_count": 2,
   "id": "07a761f7",
   "metadata": {},
   "outputs": [
    {
     "name": "stdout",
     "output_type": "stream",
     "text": [
      "HelloWorld\n"
     ]
    }
   ],
   "source": [
    "a = \"Hello\"\n",
    "b = \"World\"\n",
    "c = a + b\n",
    "print(c)"
   ]
  },
  {
   "cell_type": "markdown",
   "id": "a8606682",
   "metadata": {},
   "source": [
    "To add a space between them, add a `\" \"` like this:"
   ]
  },
  {
   "cell_type": "code",
   "execution_count": 3,
   "id": "a16f874d",
   "metadata": {},
   "outputs": [
    {
     "name": "stdout",
     "output_type": "stream",
     "text": [
      "Hello World\n"
     ]
    }
   ],
   "source": [
    "a = \"Hello\"\n",
    "b = \"World\"\n",
    "c = a + \" \" + b\n",
    "print(c)"
   ]
  },
  {
   "cell_type": "markdown",
   "id": "9c0dd64b",
   "metadata": {},
   "source": [
    "In some situations, you’ll want to use a variable’s value inside a string. \n",
    "\n",
    "For example, you might want two variables to represent a first name and a last\n",
    "name respectively, and then want to combine those values to display\n",
    "someone’s full name:\n",
    "`full_name.py`\n",
    "```\n",
    "first_name = \"first\"\n",
    "last_name = \"last\"\n",
    "full_name = f\"{first_name} {last_name}\"\n",
    "print(full_name)\n",
    "```"
   ]
  },
  {
   "cell_type": "code",
   "execution_count": 4,
   "id": "f993e317",
   "metadata": {},
   "outputs": [
    {
     "name": "stdout",
     "output_type": "stream",
     "text": [
      "Hello, Ada Lovelace\n"
     ]
    }
   ],
   "source": [
    "first_name = \"ada\"\n",
    "last_name = \"lovelace\"\n",
    "greetings = f\"Hello, {first_name.title()} {last_name.title()}\"\n",
    "print(greetings)"
   ]
  },
  {
   "cell_type": "markdown",
   "id": "4d0eb8db",
   "metadata": {},
   "source": [
    "alternatively"
   ]
  },
  {
   "cell_type": "code",
   "execution_count": null,
   "id": "4bc0f4b6",
   "metadata": {},
   "outputs": [
    {
     "name": "stdout",
     "output_type": "stream",
     "text": [
      "Hello, Ada Lovalace\n"
     ]
    }
   ],
   "source": [
    "greetings = \"Hello, {} {}\".format(\"Ada\", \"Lovalace\")\n",
    "print(greetings)"
   ]
  },
  {
   "cell_type": "markdown",
   "id": "bf2ef987",
   "metadata": {},
   "source": [
    "# Lists\n"
   ]
  },
  {
   "cell_type": "markdown",
   "id": "394ddb83",
   "metadata": {},
   "source": [
    "A list is a collection of items in a particular order. You can make a list that\n",
    "includes the letters of the alphabet, the digits from 0–9, or the names of all\n",
    "the people in your family.\n",
    "\n",
    "In Python, square brackets (`[]`) indicate a list, and individual elements in\n",
    "the list are separated by commas. \n",
    "\n",
    "Here’s a simple example of a list that\n",
    "contains a few kinds of bicycles:\n",
    "`bicycles.py`\n",
    "```\n",
    "bicycles = ['trek', 'cannondale', 'redline', 'specialized']\n",
    "```\n",
    "If you ask Python to print a list, Python returns its representation of the\n",
    "list, including the square brackets:"
   ]
  },
  {
   "cell_type": "code",
   "execution_count": 6,
   "id": "cb1949ef",
   "metadata": {},
   "outputs": [
    {
     "name": "stdout",
     "output_type": "stream",
     "text": [
      "['trek', 'cannondale', 'redline', 'specialized']\n"
     ]
    }
   ],
   "source": [
    "bicycles = ['trek', 'cannondale', 'redline', 'specialized']\n",
    "print(bicycles)"
   ]
  },
  {
   "cell_type": "markdown",
   "id": "a034f770",
   "metadata": {},
   "source": [
    "Because this isn’t the output you want your users to see, let’s learn how to\n",
    "access the individual items in a list\n",
    "\n",
    "#### Accessing Elements in a List\n",
    "\n",
    "Lists are ordered collections, so you can access any element in a list by\n",
    "telling Python the position, or index, of the item desired. \n",
    "\n",
    "To access an element in a list, write the name of the list followed by the index of the item\n",
    "enclosed in square brackets.\n",
    "\n",
    "For example, let’s pull out the first bicycle in the list bicycles"
   ]
  },
  {
   "cell_type": "code",
   "execution_count": 8,
   "id": "ec99b896",
   "metadata": {},
   "outputs": [
    {
     "name": "stdout",
     "output_type": "stream",
     "text": [
      "cannondale\n"
     ]
    }
   ],
   "source": [
    "print(bicycles[1])"
   ]
  },
  {
   "cell_type": "markdown",
   "id": "92f837eb",
   "metadata": {},
   "source": [
    "#### Changing, Adding, and Removing Elements\n",
    "\n",
    "Most lists you create will be dynamic, meaning you’ll build a list and then\n",
    "add and remove elements from it as your program runs its course. \n",
    "\n",
    "For example, you might create a game in which a player has to shoot aliens out\n",
    "of the sky. \n",
    "\n",
    "You could store the initial set of aliens in a list and then remove\n",
    "an alien from the list each time one is shot down. \n",
    "\n",
    "Each time a new alien appears on the screen, you add it to the list. Your list of aliens will increase\n",
    "and decrease in length throughout the course of the game.\n",
    "```\n",
    "append(): Add to a list\n",
    "remove(): Remove from a list\n",
    "insert(): Insert an element to a particular position \n",
    "```\n",
    "\n",
    "For example, let’s say we have a list of motorcycles, and the first item in\n",
    "the list is 'honda'. How would we change the value of this first item?\n",
    "`motorcycles.py`\n",
    "```\n",
    "motorcycles = ['honda', 'yamaha', 'suzuki']\n",
    "motorcycles[0] = 'ducati'\n",
    "```"
   ]
  },
  {
   "cell_type": "code",
   "execution_count": 9,
   "id": "1f9884e2",
   "metadata": {},
   "outputs": [
    {
     "name": "stdout",
     "output_type": "stream",
     "text": [
      "['honda', 'yamaha', 'suzuki']\n"
     ]
    }
   ],
   "source": [
    "motorcycles = ['honda', 'yamaha', 'suzuki']\n",
    "print(motorcycles)"
   ]
  },
  {
   "cell_type": "code",
   "execution_count": 13,
   "id": "8e232523",
   "metadata": {},
   "outputs": [
    {
     "name": "stdout",
     "output_type": "stream",
     "text": [
      "['ducati', 'yamaha', 'suzuki']\n",
      "3\n"
     ]
    }
   ],
   "source": [
    "motorcycles[0] = 'ducati'\n",
    "print(motorcycles)\n",
    "print(len(motorcycles))"
   ]
  },
  {
   "cell_type": "markdown",
   "id": "c36e3b93",
   "metadata": {},
   "source": [
    "## Tuples"
   ]
  },
  {
   "cell_type": "markdown",
   "id": "c286e18f",
   "metadata": {},
   "source": [
    "A tuple looks just like a list except you use parentheses instead of square\n",
    "brackets. \n",
    "\n",
    "Once you define a tuple, you can access individual elements by\n",
    "using each item’s index, just as you would for a list.\n",
    "\n",
    "However, sometimes you’ll want to create a list of items that cannot\n",
    "change. \n",
    "\n",
    "Tuples allow you to do just that. Python refers to values that cannot\n",
    "change as immutable, and an immutable list is called a tuple.\n",
    "\n",
    "For example, if we have a rectangle that should always be a certain size,\n",
    "we can ensure that its size doesn’t change by putting the dimensions into a\n",
    "tuple:\n",
    "`dimensions.py`\n",
    "```\n",
    "dimensions = (200, 50)\n",
    "```"
   ]
  },
  {
   "cell_type": "code",
   "execution_count": 14,
   "id": "d4d0fac2",
   "metadata": {},
   "outputs": [
    {
     "name": "stdout",
     "output_type": "stream",
     "text": [
      "200\n",
      "50\n"
     ]
    }
   ],
   "source": [
    "dimensions = (200, 50)\n",
    "print(dimensions[0])\n",
    "print(dimensions[1])"
   ]
  },
  {
   "cell_type": "code",
   "execution_count": 15,
   "id": "1774bc47",
   "metadata": {},
   "outputs": [
    {
     "ename": "TypeError",
     "evalue": "'tuple' object does not support item assignment",
     "output_type": "error",
     "traceback": [
      "\u001b[1;31m---------------------------------------------------------------------------\u001b[0m",
      "\u001b[1;31mTypeError\u001b[0m                                 Traceback (most recent call last)",
      "Cell \u001b[1;32mIn[15], line 1\u001b[0m\n\u001b[1;32m----> 1\u001b[0m \u001b[43mdimensions\u001b[49m\u001b[43m[\u001b[49m\u001b[38;5;241;43m0\u001b[39;49m\u001b[43m]\u001b[49m \u001b[38;5;241m=\u001b[39m \u001b[38;5;241m100\u001b[39m\n",
      "\u001b[1;31mTypeError\u001b[0m: 'tuple' object does not support item assignment"
     ]
    }
   ],
   "source": [
    "dimensions[0] = 100"
   ]
  },
  {
   "cell_type": "markdown",
   "id": "f78c3cdf",
   "metadata": {},
   "source": [
    "#### Looping Through All Values in a Tuple\n",
    "\n",
    "You can loop over all the values in a tuple using a for loop, just as you did\n",
    "with a list:"
   ]
  },
  {
   "cell_type": "code",
   "execution_count": 16,
   "id": "816ff3e1",
   "metadata": {},
   "outputs": [
    {
     "name": "stdout",
     "output_type": "stream",
     "text": [
      "200\n",
      "50\n"
     ]
    }
   ],
   "source": [
    "for dimension in dimensions:\n",
    "    print(dimension)"
   ]
  },
  {
   "cell_type": "markdown",
   "id": "0ea7f3ea",
   "metadata": {},
   "source": [
    "## Working with Dictionaries\n"
   ]
  },
  {
   "cell_type": "markdown",
   "id": "35abb16e",
   "metadata": {},
   "source": [
    "A dictionary in Python is a collection of key-value pairs. \n",
    "\n",
    "Each key is connected to a value, and you can use a key to access the value associated with that key.\n",
    "\n",
    "A key’s value can be a number, a string, a list, or even another dictionary. In\n",
    "fact, you can use any object that you can create in Python as a value in a\n",
    "dictionary.\n",
    "\n",
    "In Python, a dictionary is wrapped in braces, `{}`, with a series of key-value\n",
    "pairs inside the braces, as shown in the earlier example:\n",
    "```\n",
    "alien_0 = {'color': 'green', 'points': 5}\n",
    "```"
   ]
  },
  {
   "cell_type": "code",
   "execution_count": 17,
   "id": "31d56d1f",
   "metadata": {},
   "outputs": [
    {
     "name": "stdout",
     "output_type": "stream",
     "text": [
      "{'color': 'green', 'points': 5}\n"
     ]
    }
   ],
   "source": [
    "alien_0 = {'color': 'green', 'points': 5}\n",
    "print(alien_0)"
   ]
  },
  {
   "cell_type": "markdown",
   "id": "a7681c87",
   "metadata": {},
   "source": [
    "#### Accessing Values in a Dictionary\n",
    "\n",
    "To get the value associated with a key, give the name of the dictionary and\n",
    "then place the key inside a set of square brackets, as shown here:\n",
    "`alien.py`\n",
    "```   \n",
    "alien_0 = {'color': 'green'}\n",
    "print(alien_0['color'])\n",
    "```\n",
    "This returns the value associated with the key 'color' from the dictionary\n",
    "`alien_0`:\n",
    "```\n",
    "green\n",
    "```\n",
    "You can have an unlimited number of key-value pairs in a dictionary. For\n",
    "example, here’s the original `alien_0` dictionary with two key-value pairs:\n",
    "```\n",
    "alien_0 = {'color': 'green', 'points': 5}\n",
    "```\n",
    "Now you can access either the color or the point value of `alien_0`. If a\n",
    "player shoots down this alien, you can look up how many points they should\n",
    "earn using code like this:\n"
   ]
  },
  {
   "cell_type": "code",
   "execution_count": 18,
   "id": "800b53b7",
   "metadata": {},
   "outputs": [
    {
     "name": "stdout",
     "output_type": "stream",
     "text": [
      "You just earned 5 points!\n"
     ]
    }
   ],
   "source": [
    "alien_0 = {'color': 'green', 'points': 5}\n",
    "new_points = alien_0['points']\n",
    "print(f\"You just earned {new_points} points!\")"
   ]
  },
  {
   "cell_type": "markdown",
   "id": "22666c59",
   "metadata": {},
   "source": [
    "#### Adding New Key-Value Pairs\n",
    "\n",
    "Dictionaries are dynamic structures, and you can add new key-value pairs to\n",
    "a dictionary at any time. \n",
    "\n",
    "For example, to add a new key-value pair, you\n",
    "would give the name of the dictionary followed by the new key in square\n",
    "brackets along with the new value.\n",
    "\n",
    "Let’s add two new pieces of information to the `alien_0` dictionary: the\n",
    "alien’s x- and y-coordinates, which will help us display the alien in a\n",
    "particular position on the screen.\n",
    "\n",
    "Because screen coordinates usually start at the upper-left corner of the screen, we’ll place the alien on the left edge of the screen by setting the `x-coordinate` to `0` and `25` pixels from the top by setting its `y-coordinate` to positive `25`, as shown here: `alien.py`"
   ]
  },
  {
   "cell_type": "code",
   "execution_count": 19,
   "id": "ce1cc034",
   "metadata": {},
   "outputs": [
    {
     "name": "stdout",
     "output_type": "stream",
     "text": [
      "{'color': 'green', 'points': 5, 'x_position': 0, 'y_position': 25}\n"
     ]
    }
   ],
   "source": [
    "alien_0['x_position'] = 0\n",
    "alien_0['y_position'] = 25\n",
    "print(alien_0)"
   ]
  },
  {
   "cell_type": "markdown",
   "id": "0d95cd86",
   "metadata": {},
   "source": [
    "#### Modifying Values in a Dictionary\n",
    "\n",
    "To modify a value in a dictionary, give the name of the dictionary with the\n",
    "key in square brackets and then the new value you want associated with that\n",
    "key. \n",
    "\n",
    "For example, consider an alien that changes from green to yellow as a\n",
    "game progresses:\n",
    "`alien.py`\n"
   ]
  },
  {
   "cell_type": "code",
   "execution_count": 20,
   "id": "5bb48c50",
   "metadata": {},
   "outputs": [
    {
     "name": "stdout",
     "output_type": "stream",
     "text": [
      "The alien is green.\n"
     ]
    }
   ],
   "source": [
    "alien_0 = {'color': 'green'}\n",
    "print(f\"The alien is {alien_0['color']}.\")"
   ]
  },
  {
   "cell_type": "code",
   "execution_count": 21,
   "id": "ba1250b7",
   "metadata": {},
   "outputs": [
    {
     "name": "stdout",
     "output_type": "stream",
     "text": [
      "The alien is now yellow.\n"
     ]
    }
   ],
   "source": [
    "alien_0['color'] = 'yellow'\n",
    "print(f\"The alien is now {alien_0['color']}.\")"
   ]
  },
  {
   "cell_type": "markdown",
   "id": "d6c3175e",
   "metadata": {},
   "source": [
    "Use `del` statement to completely remove a key-value\n",
    "pair. All `del` needs is the name of the dictionary and the key that you want to\n",
    "remove.\n",
    "\n",
    "For example, let’s remove the key 'points' from the `alien_0` dictionary\n",
    "along with its value:\n",
    "`alien.py`\n"
   ]
  },
  {
   "cell_type": "code",
   "execution_count": 22,
   "id": "5043f424",
   "metadata": {},
   "outputs": [
    {
     "name": "stdout",
     "output_type": "stream",
     "text": [
      "{'color': 'green', 'points': 5}\n",
      "{'color': 'green'}\n"
     ]
    }
   ],
   "source": [
    "alien_0 = {'color': 'green', 'points': 5}\n",
    "print(alien_0)\n",
    "del alien_0['points']\n",
    "print(alien_0)"
   ]
  },
  {
   "cell_type": "markdown",
   "id": "55567a3d",
   "metadata": {},
   "source": [
    "## File Handling"
   ]
  },
  {
   "cell_type": "markdown",
   "id": "33b1b9c5",
   "metadata": {},
   "source": [
    "The key function for working with files in Python is the `open()` function.\n",
    "\n",
    "The `open()` function takes two parameters; filename, and mode.\n",
    "\n",
    "There are four different methods (modes) for opening a file:\n",
    "\n",
    "`\"r\"` - Read - Default value. Opens a file for reading, error if the file does not exist\n",
    "\n",
    "`\"a\"` - Append - Opens a file for appending, creates the file if it does not exist\n",
    "\n",
    "`\"w\"` - Write - Opens a file for writing, creates the file if it does not exist\n",
    "\n",
    "`\"x\"` - Create - Creates the specified file, returns an error if the file exists\n",
    "\n",
    "For example: to open a file for reading it is enough to specify the name of the file:\n",
    "    let say we have a file `demofile.txt` \n",
    "```\n",
    "Hello! Welcome to demofile.txt\n",
    "This file is for testing purposes.\n",
    "Good Luck!\n",
    "```"
   ]
  },
  {
   "cell_type": "code",
   "execution_count": 23,
   "id": "103a0a98",
   "metadata": {},
   "outputs": [],
   "source": [
    "file = open(\"demofile.txt\")"
   ]
  },
  {
   "cell_type": "markdown",
   "id": "50e8d52e",
   "metadata": {},
   "source": [
    "The `open()` function returns a file object, which has a `read()` method for reading the content of the file:"
   ]
  },
  {
   "cell_type": "code",
   "execution_count": 24,
   "id": "90b2bf55",
   "metadata": {},
   "outputs": [
    {
     "name": "stdout",
     "output_type": "stream",
     "text": [
      "Hello! Welcome to demofile.txt\n",
      "This file is for testing purposes.\n",
      "Good Luck!\n"
     ]
    }
   ],
   "source": [
    "print(file.read())\n",
    "file.close()"
   ]
  },
  {
   "cell_type": "markdown",
   "id": "6c7aacf0",
   "metadata": {},
   "source": [
    "It is a good practice to always close the file when you are done with it.\n",
    "\n",
    "If you are not using the `with` statement, you must write a `close` statement in order to close the file.\n",
    "\n",
    "Using the `with` statement when opening a file"
   ]
  },
  {
   "cell_type": "code",
   "execution_count": 25,
   "id": "7a5441e6",
   "metadata": {},
   "outputs": [
    {
     "name": "stdout",
     "output_type": "stream",
     "text": [
      "Hello! Welcome to demofile.txt\n",
      "This file is for testing purposes.\n",
      "Good Luck!\n"
     ]
    }
   ],
   "source": [
    "with open(\"demofile.txt\") as f:\n",
    "  print(f.read())"
   ]
  },
  {
   "cell_type": "markdown",
   "id": "675139a6",
   "metadata": {},
   "source": [
    "##### Read Lines\n",
    "You can return one line by using the readline() method:"
   ]
  },
  {
   "cell_type": "code",
   "execution_count": 27,
   "id": "dbdc775f",
   "metadata": {},
   "outputs": [
    {
     "name": "stdout",
     "output_type": "stream",
     "text": [
      "Hello! Welcome to demofile.txt\n",
      "\n",
      "This file is for testing purposes.\n",
      "\n"
     ]
    }
   ],
   "source": [
    "with open(\"demofile.txt\") as f:\n",
    "  print(f.readline())\n",
    "  print(f.readline())"
   ]
  },
  {
   "cell_type": "markdown",
   "id": "5efabb7f",
   "metadata": {},
   "source": [
    "##### Write to an Existing File\n",
    "To write to an existing file, you must add a parameter to the `open()` function:\n",
    "\n",
    "`\"a\"` - Append - will append to the end of the file\n",
    "\n",
    "`\"w\"` - Write - will overwrite any existing content"
   ]
  },
  {
   "cell_type": "code",
   "execution_count": 29,
   "id": "ae5edf13",
   "metadata": {},
   "outputs": [
    {
     "name": "stdout",
     "output_type": "stream",
     "text": [
      "Hello! Welcome to demofile.txt\n",
      "This file is for testing purposes.\n",
      "Good Luck!Now the file has more content!\tNow the file has more content!\n"
     ]
    }
   ],
   "source": [
    "with open(\"demofile.txt\", \"a\") as f:\n",
    "  f.write(\"\\tNow the file has more content!\")\n",
    "\n",
    "#open and read the file after the appending:\n",
    "with open(\"demofile.txt\") as f:\n",
    "  print(f.read())"
   ]
  },
  {
   "cell_type": "markdown",
   "id": "cce669f6",
   "metadata": {},
   "source": [
    "## Overview of Regular Expressions (RegEx)"
   ]
  },
  {
   "cell_type": "markdown",
   "id": "f75687b1",
   "metadata": {},
   "source": [
    "A RegEx, or Regular Expression, is a sequence of characters that forms a search pattern.\n",
    "\n",
    "RegEx can be used to check if a string contains the specified search pattern.\n",
    "\n",
    "Python has a built-in package called `re`, which can be used to work with Regular Expressions.\n",
    "\n",
    "`import re`"
   ]
  },
  {
   "cell_type": "code",
   "execution_count": 33,
   "id": "a85aade3",
   "metadata": {},
   "outputs": [
    {
     "name": "stdout",
     "output_type": "stream",
     "text": [
      "Match Found!\n"
     ]
    }
   ],
   "source": [
    "import re\n",
    "\n",
    "txt = \"The rain in Spain\"\n",
    "x = re.search(\"^The.*Spain$\", txt)\n",
    "\n",
    "if x:\n",
    "    print(\"Match Found!\")\n",
    "else:\n",
    "    print(\"Match Not Found\")"
   ]
  },
  {
   "cell_type": "markdown",
   "id": "cbf171e0",
   "metadata": {},
   "source": [
    "##### RegEx Functions\n",
    "The re module offers a set of functions that allows us to search a string for a match:\n",
    "\n",
    "`findall()` - Returns a list containing all matches\n",
    "\n",
    "`search()` - Returns a Match object if there is a match anywhere in the string\n",
    "\n",
    "`split()` - Returns a list where the string has been split at each match\n",
    "\n",
    "`sub()` - Replaces one or many matches with a string"
   ]
  },
  {
   "cell_type": "code",
   "execution_count": null,
   "id": "1fa8445a",
   "metadata": {},
   "outputs": [
    {
     "name": "stdout",
     "output_type": "stream",
     "text": [
      "['ai', 'ai']\n"
     ]
    }
   ],
   "source": [
    "# Example use\n",
    "import re\n",
    "\n",
    "txt = \"The rain in Spain\"\n",
    "x = re.findall(\"ai\", txt)\n",
    "print(x)"
   ]
  },
  {
   "cell_type": "markdown",
   "id": "d7006019",
   "metadata": {},
   "source": [
    "## Basic Python Algorithms"
   ]
  },
  {
   "cell_type": "markdown",
   "id": "0e6e228f",
   "metadata": {},
   "source": [
    "An algorithm is a step-by-step set of instructions to solve a problem or perform a task. In Python, algorithms are usually implemented as functions.\n",
    "\n",
    "##### Popular types of algorithm\n",
    "\n",
    "1. Search Algorithms\n",
    "2. Binary Search \n",
    "3. Bubble Sort\n",
    "4. insertion Sort\n",
    "5. Recursion Algorithms"
   ]
  },
  {
   "cell_type": "markdown",
   "id": "e5f4b731",
   "metadata": {},
   "source": [
    "Example Implementations\n"
   ]
  },
  {
   "cell_type": "code",
   "execution_count": null,
   "id": "e0033119",
   "metadata": {},
   "outputs": [],
   "source": [
    "\"\"\"\n",
    "Linear Search - Check each item one by one.\n",
    "\"\"\"\n",
    "def linear_search(arr, target):\n",
    "    for i in range(len(arr)):\n",
    "        if arr[i] == target:\n",
    "            return i\n",
    "    return -1\n"
   ]
  },
  {
   "cell_type": "code",
   "execution_count": null,
   "id": "9e56b9a4",
   "metadata": {},
   "outputs": [],
   "source": [
    "\"\"\"\n",
    "Binary Search - Works on sorted lists. Splits the list in half each time.\n",
    "\"\"\"\n",
    "\n",
    "def binary_search(arr, target):\n",
    "    left, right = 0, len(arr) - 1\n",
    "    while left <= right:\n",
    "        mid = (left + right) // 2\n",
    "        if arr[mid] == target:\n",
    "            return mid\n",
    "        elif arr[mid] < target:\n",
    "            left = mid + 1\n",
    "        else:\n",
    "            right = mid - 1\n",
    "    return -1"
   ]
  },
  {
   "cell_type": "code",
   "execution_count": null,
   "id": "8eb7c0a0",
   "metadata": {},
   "outputs": [],
   "source": [
    "\"\"\"\n",
    "Insertion Sort - Builds the sorted list one item at a time.\n",
    "\"\"\"\n",
    "def insertion_sort(arr):\n",
    "    for i in range(1, len(arr)):\n",
    "        key = arr[i]\n",
    "        j = i - 1\n",
    "        while j >= 0 and arr[j] > key:\n",
    "            arr[j + 1] = arr[j]\n",
    "            j -= 1\n",
    "        arr[j + 1] = key\n"
   ]
  },
  {
   "cell_type": "markdown",
   "id": "67d0deb6",
   "metadata": {},
   "source": [
    "# Thank You "
   ]
  },
  {
   "cell_type": "markdown",
   "id": "d9f0f19f",
   "metadata": {},
   "source": [
    "# 4th Contact Session: \n",
    "  - Http / Web Services\n",
    "  - Numpy, Scipy, Pandas\n",
    "\n"
   ]
  },
  {
   "attachments": {
    "image.png": {
     "image/png": "[encoded data removed]"
    }
   },
   "cell_type": "markdown",
   "id": "33ba90ca",
   "metadata": {},
   "source": [
    "### Http / Web Services\n",
    "\n",
    "##### What is HTTP?\n",
    "\n",
    "![image.png](attachment:image.png)\n",
    "\n",
    "HTTP is a TCP/IP based communication protocol, that is used to deliver data (HTML files, image files, query results, etc.) on the World Wide Web. The default port is TCP 80, but other ports can be used as well. It provides a standardized way for computers to communicate with each other. HTTP specification specifies how clients' request data will be constructed and sent to the server, and how the servers respond to these requests."
   ]
  },
  {
   "cell_type": "markdown",
   "id": "ef8c684d",
   "metadata": {},
   "source": [
    "##### How HTTP Works?\n",
    "\n",
    "HTTP works as request-response model between the client and server. The working of HTTP is mentioned below:\n",
    "\n",
    "\n",
    " - HTTP works on request-response cycle where, first client sends a request to server for resource by searching any url or clicking on any link.\n",
    " \n",
    " \n",
    " - Then, server process the client's request and checks for the existence of requestsed resource.\n",
    " \n",
    " \n",
    " - After processing the request, server sends back the HTTP response along with status code, headers and requested data.\n",
    " \n",
    " \n",
    " - The browser receives the response sent by server and renders the content for users."
   ]
  },
  {
   "cell_type": "markdown",
   "id": "57bf28b2",
   "metadata": {},
   "source": [
    "##### Difference between HTTP and HTTPS.\n",
    "\n",
    "The major difference between HTTPS(Hypertext Transfer Protocol Secure) and HTTP(Hypertext Transfer Protocol) is that HTTPS encrypts the data using TLS/SSL making the communication more secure whereas HTTP transmits data in plain text without encryption."
   ]
  },
  {
   "cell_type": "markdown",
   "id": "fceff5f9",
   "metadata": {},
   "source": [
    "##### Basic Features of HTTP\n",
    "The basic features that make HTTP a simple but powerful protocol are mentioned below:\n",
    "\n",
    " - Stateless: Each request is treated as a new request i.e both client and server forget about each other after completion of a request unless cookies, tokens or sessions are used.\n",
    " \n",
    " \n",
    " - Connectionless: The connection between client and server is closed after the completion of each request making it a connectionless protocol.\n",
    " \n",
    " \n",
    " - Media Independent: Any type of data can be transferred over web using HTTP protocol, as long as both the client and server specify the format using MIME types.\n",
    " \n",
    " \n",
    " - HTTP Methods: HTTP defines various methods for different actions such as GET, POST, PUT and more.\n",
    " \n",
    " \n",
    " - Caching Support: HTTP provides support for caching which improves the performance by storing the copies of responses and reusing them later."
   ]
  },
  {
   "attachments": {
    "image.png": {
     "image/png": "[encoded data removed]"
    }
   },
   "cell_type": "markdown",
   "id": "ed9d2e99",
   "metadata": {},
   "source": [
    "The following diagram shows a very basic architecture of a web application and depicts where HTTP sits:\n",
    "\n",
    "![image.png](attachment:image.png)\n",
    "\n",
    "\n",
    "The HTTP protocol is a request/response protocol based on the client/server based architecture where web browsers, robots and search engines, etc. act like HTTP clients, and the Web server acts as a server.\n",
    "\n",
    "#### Client\n",
    "The HTTP client sends a request to the server in the form of a request method, URI, and protocol version, followed by a MIME-like message containing request modifiers, client information, and possible body content over a TCP/IP connection.\n",
    "\n",
    "#### Server\n",
    "The HTTP server responds with a status line, including the message's protocol version and a success or error code, followed by a MIME-like message containing server information, entity meta information, and possible entity-body content."
   ]
  },
  {
   "cell_type": "markdown",
   "id": "30aee0e5",
   "metadata": {},
   "source": [
    "#### HTTP Request\n",
    "\n",
    "An HTTP request is a message sent by a client to a server, requesting for a specific resource. It consists of a request line, headers, and optionally a body. An HTTP client sends an HTTP request to a server in the form of a request message\n",
    "\n",
    "###### HTTP Request Components\n",
    "\n",
    "An HTTP request message has following components mentioned below:\n",
    "\n",
    " - **The method** describes what action the client wants to perform. The method for static content is typically GET, though there are others available, like POST, HEAD, and DELETE.\n",
    " \n",
    " \n",
    " - **The path** indicates to the server what web page you would like to request. For example, the path of this page is /python-https.\n",
    " \n",
    " \n",
    " - **The version** is one of several HTTP versions, like 1.0, 1.1, or 2.0. The most common is probably 1.1.\n",
    " \n",
    " \n",
    " - **The headers** help describe additional information for the server.\n",
    " \n",
    " \n",
    " - **The body** provides the server with information from the client. Though this field is not required, it’s typical for some methods to have a body, like a POST."
   ]
  },
  {
   "cell_type": "markdown",
   "id": "ce616b18",
   "metadata": {},
   "source": [
    "#### HTTP - Responses\n",
    "\n",
    "HTTP Responses are the HTTP messages sent by a server replying to request of a client. After receiving and interpreting a request message, a server responds with an HTTP response message.\n",
    "\n",
    "###### HTTP Request Components\n",
    "\n",
    " - The VERSION identifies the HTTP version, which will typically be the same as the request’s version.\n",
    " \n",
    " \n",
    " - The STATUS CODE indicates whether a request was completed successfully. There are quite a few status codes.\n",
    " \n",
    " \n",
    " - The STATUS MESSAGE provides a human-readable message that helps describe the status code.\n",
    " \n",
    " \n",
    " - The HEADERS allow the server to respond with additional metadata about the request. These are the same concept as request headers.\n",
    " \n",
    " \n",
    " - The BODY carries the content. Technically, this is optional, but typically it contains a useful resource."
   ]
  },
  {
   "cell_type": "markdown",
   "id": "6b6477c7",
   "metadata": {},
   "source": [
    "###### Example:\n",
    "\n",
    "Request\n",
    "```bash\n",
    "curl https://trudeau.dev/helloworld.html\n",
    "```\n",
    "\n",
    "Response\n",
    "```bash\n",
    "StatusCode        : 200\n",
    "StatusDescription : OK\n",
    "Content           : <!doctype html>\n",
    "                    <html lang=\"en\">\n",
    "                    <head>\n",
    "                      <title>Hello World!</title>\n",
    "                    </head>\n",
    "                    <body>\n",
    "                      <h1>Hello World!</h1>\n",
    "                    </body>\n",
    "                    </html>\n",
    "```"
   ]
  },
  {
   "cell_type": "markdown",
   "id": "d096e64f",
   "metadata": {},
   "source": [
    "###### Using Python request module"
   ]
  },
  {
   "cell_type": "code",
   "execution_count": 16,
   "id": "c1e81cc4",
   "metadata": {},
   "outputs": [
    {
     "name": "stdout",
     "output_type": "stream",
     "text": [
      "<Response [200]>\n"
     ]
    }
   ],
   "source": [
    "import requests\n",
    "\n",
    "url = \"https://trudeau.dev/helloworld.html\"\n",
    "response = requests.get(url)\n",
    "print(response)"
   ]
  },
  {
   "cell_type": "markdown",
   "id": "2e4b0b91",
   "metadata": {},
   "source": [
    "### Numpy, Scipy, Pandas\n",
    "\n",
    "#### Introduction To NumPy\n",
    "\n",
    "NumPy is a third-party Python library that provides support for large multidimensional arrays and matrices along with a collection of mathematical functions to operate on these elements.\n",
    "\n",
    "In Python we have lists that serve the purpose of arrays, but they are slow to process.\n",
    "\n",
    "NumPy aims to provide an array object that is up to 50x faster than traditional Python lists.\n",
    "\n",
    "The array object in NumPy is called `ndarray`, it provides a lot of supporting functions that make working with `ndarray` very easy.\n",
    "\n",
    "Arrays are very frequently used in data science, where speed and resources are very important."
   ]
  },
  {
   "cell_type": "markdown",
   "id": "d1f19f33",
   "metadata": {},
   "source": [
    "###### Installation of NumPy"
   ]
  },
  {
   "cell_type": "code",
   "execution_count": 17,
   "id": "bdc1e3c7",
   "metadata": {},
   "outputs": [
    {
     "name": "stdout",
     "output_type": "stream",
     "text": [
      "Requirement already satisfied: numpy in c:\\programdata\\anaconda3\\lib\\site-packages (1.20.1)\n",
      "Note: you may need to restart the kernel to use updated packages.\n"
     ]
    }
   ],
   "source": [
    "pip install numpy"
   ]
  },
  {
   "cell_type": "markdown",
   "id": "1e1bdea4",
   "metadata": {},
   "source": [
    "###### Example Use"
   ]
  },
  {
   "cell_type": "code",
   "execution_count": 18,
   "id": "cb516e72",
   "metadata": {},
   "outputs": [
    {
     "name": "stdout",
     "output_type": "stream",
     "text": [
      "[1 2 3 4 5]\n"
     ]
    }
   ],
   "source": [
    "import numpy as np\n",
    "\n",
    "# 1-D array\n",
    "arr = np.array([1, 2, 3, 4, 5])\n",
    "\n",
    "print(arr)"
   ]
  },
  {
   "cell_type": "code",
   "execution_count": 19,
   "id": "09e097fb",
   "metadata": {},
   "outputs": [
    {
     "name": "stdout",
     "output_type": "stream",
     "text": [
      "[[1 2 3]\n",
      " [4 5 6]]\n"
     ]
    }
   ],
   "source": [
    "# 2-D array\n",
    "arr = np.array([[1, 2, 3], [4, 5, 6]])\n",
    "\n",
    "print(arr)"
   ]
  },
  {
   "cell_type": "markdown",
   "id": "ad7aa03c",
   "metadata": {},
   "source": [
    "###### Iterating numpy array"
   ]
  },
  {
   "cell_type": "code",
   "execution_count": 20,
   "id": "78d5fb2d",
   "metadata": {},
   "outputs": [
    {
     "name": "stdout",
     "output_type": "stream",
     "text": [
      "1\n",
      "2\n",
      "3\n"
     ]
    }
   ],
   "source": [
    "arr = np.array([1, 2, 3])\n",
    "\n",
    "for x in arr:\n",
    "  print(x)"
   ]
  },
  {
   "cell_type": "code",
   "execution_count": 21,
   "id": "84f4cfbf",
   "metadata": {},
   "outputs": [
    {
     "name": "stdout",
     "output_type": "stream",
     "text": [
      "[1 2 3]\n",
      "[4 5 6]\n"
     ]
    }
   ],
   "source": [
    "arr = np.array([[1, 2, 3], [4, 5, 6]]) # 2-dimensinal array\n",
    "\n",
    "for x in arr:\n",
    "  print(x)"
   ]
  },
  {
   "cell_type": "markdown",
   "id": "a9ebcd05",
   "metadata": {},
   "source": [
    "#### Scipy\n",
    "\n",
    "SciPy is a scientific library for Python is an open source, BSD-licensed library for mathematics, science and engineering. \n",
    "\n",
    "The SciPy library depends on NumPy, which provides convenient and fast N-dimensional array manipulation. \n",
    "\n",
    "The main reason for building the SciPy library is that, it should work with NumPy arrays. \n",
    "\n",
    "It provides many user-friendly and efficient numerical practices such as routines for numerical integration and optimization."
   ]
  },
  {
   "cell_type": "markdown",
   "id": "e30138db",
   "metadata": {},
   "source": [
    "###### Installation"
   ]
  },
  {
   "cell_type": "code",
   "execution_count": null,
   "id": "9ee3d568",
   "metadata": {},
   "outputs": [],
   "source": [
    "pip install scipy"
   ]
  },
  {
   "cell_type": "markdown",
   "id": "82ad136b",
   "metadata": {},
   "source": [
    "###### Example Use\n",
    "\n",
    "Import the SciPy module(s) you want to use in your applications by adding the `from scipy import module` statement:"
   ]
  },
  {
   "cell_type": "code",
   "execution_count": 22,
   "id": "96825919",
   "metadata": {},
   "outputs": [
    {
     "name": "stdout",
     "output_type": "stream",
     "text": [
      "[-0.73908513]\n"
     ]
    }
   ],
   "source": [
    "# Optimizers in SciPy\n",
    "# Optimizers are a set of procedures defined in SciPy that either find the minimum value of a function, or the root of an equation.\n",
    "\n",
    "# Find root of the equation x + cos(x):\n",
    "\n",
    "from scipy.optimize import root\n",
    "from math import cos\n",
    "\n",
    "def eqn(x):\n",
    "  return x + cos(x)\n",
    "\n",
    "myroot = root(eqn, 0)\n",
    "\n",
    "print(myroot.x)"
   ]
  },
  {
   "cell_type": "markdown",
   "id": "ba4b0200",
   "metadata": {},
   "source": [
    "###### Some Core Functionality of SciPy\n",
    "\n",
    "- **Optimization**: SciPy offers several optimization algorithms such as linear programming, curve fitting and root finding.\n",
    "\n",
    "\n",
    "- **Integration**: The Scipy library provides functions for numerical integration such as single, double and multiple integrals.\n",
    "\n",
    "\n",
    "- **Image Processing**: The library includes basic image manipulation tools like filtering, morphology and object measurement.\n",
    "\n",
    "\n",
    "- **Linear Algebra**: Beyond basic matrix operations the SciPy library includes advanced linear algebra functions like matrix decomposition e.g., LU, QR, SVD and solving systems of linear equations.\n",
    "\n",
    "\n",
    "- **Statistics**: SciPy offers an extensive collection of statistical functions including probability distributions, hypothesis testing and descriptive statistics."
   ]
  },
  {
   "cell_type": "code",
   "execution_count": 23,
   "id": "b5fe257b",
   "metadata": {},
   "outputs": [
    {
     "name": "stdout",
     "output_type": "stream",
     "text": [
      "Integral result: 0.8862269254527579, Error estimate: 7.101318390915439e-09\n"
     ]
    }
   ],
   "source": [
    "'''\n",
    "Below is the example of computing the integral f(x) = e-x2, which is the area under the curve of the \n",
    "Gaussian function and it converges to a known value by using the quad() function of the \n",
    "scipy.integrate module.\n",
    "'''\n",
    "\n",
    "from scipy import integrate\n",
    "import numpy as np\n",
    "\n",
    "# Function to integrate\n",
    "def f(x):\n",
    "   return np.exp(-x**2)\n",
    "\n",
    "# Compute the integral from 0 to infinity\n",
    "result, error = integrate.quad(f, 0, np.inf)\n",
    "print(f\"Integral result: {result}, Error estimate: {error}\")"
   ]
  },
  {
   "cell_type": "markdown",
   "id": "b6b2c69e",
   "metadata": {},
   "source": [
    "###### Other modules of SciPy\n",
    "\n",
    "\n",
    "|Module|Description|Key Functions/Classes|\n",
    "| :- | :- | :- |\n",
    "|scipy.optimize|Provides algorithms for function optimization, root finding and curve fitting.\t    |minimize, curve_fit, root, least_squares\n",
    "|scipy.integrate\t|This offers functions for numerical integration of functions and solving differential equations.\t|quad, dblquad, solve_ivp, odeint\n",
    "|scipy.interpolate\t|Contains tools for interpolating data points in one, two and three dimensions.\t|interp1d, interp2d, Rbf, UnivariateSpline\n",
    "|scipy.linalg\t|Extends NumPys linear algebra capabilities with more advanced matrix operations and decompositions.\t|inv, det, eig, svd, lu, qr\n",
    "|scipy.stats\t|Provides a wide range of statistical functions, probability distributions and tests.\t|norm, t-test, chi2_contingency, describe\n",
    "|scipy.fftpack\t|Contains functions for performing fast Fourier transforms (FFT) and related operations.\t|fft, ifft, fftfreq, dct, dst\n",
    "|scipy.ndimage\t|Focuses on image processing and analysis in n-dimensional arrays.\t|convolve, gaussian_filter, morphology, label\n",
    "|scipy.signal\t|Provides tools for signal processing, including filtering, spectral analysis and convolution.\t|butter, convolve, spectrogram, welch\n"
   ]
  },
  {
   "cell_type": "markdown",
   "id": "cc8f0de7",
   "metadata": {},
   "source": [
    "#### Pandas\n",
    "\n",
    "\n",
    "Pandas is an open-source Python Library providing high-performance data manipulation and analysis tool using its powerful data structures. The name Pandas is derived from the word Panel Data an Econometrics from Multidimensional data.\n",
    "\n",
    "In 2008, developer Wes McKinney started developing pandas when in need of high performance, flexible tool for analysis of data.\n",
    "\n",
    "Pandas allows us to analyze big data and make conclusions based on statistical theories.\n",
    "\n",
    "Pandas can clean messy data sets, and make them readable and relevant.\n",
    "\n",
    "Relevant data is very important in data science."
   ]
  },
  {
   "cell_type": "markdown",
   "id": "e8661ab1",
   "metadata": {},
   "source": [
    "###### Installation"
   ]
  },
  {
   "cell_type": "code",
   "execution_count": null,
   "id": "2e3b4ab5",
   "metadata": {},
   "outputs": [],
   "source": [
    "pip install pandas"
   ]
  },
  {
   "cell_type": "markdown",
   "id": "6defaafd",
   "metadata": {},
   "source": [
    "###### Example Use"
   ]
  },
  {
   "cell_type": "code",
   "execution_count": 24,
   "id": "8a7c42c3",
   "metadata": {},
   "outputs": [
    {
     "name": "stdout",
     "output_type": "stream",
     "text": [
      "    cars  passings\n",
      "0    BMW         3\n",
      "1  Volvo         7\n",
      "2   Ford         2\n"
     ]
    }
   ],
   "source": [
    "import pandas as pd\n",
    "\n",
    "mydataset = {\n",
    "  'cars': [\"BMW\", \"Volvo\", \"Ford\"],\n",
    "  'passings': [3, 7, 2]\n",
    "}\n",
    "\n",
    "myvar = pd.DataFrame(mydataset)\n",
    "\n",
    "print(myvar)"
   ]
  },
  {
   "cell_type": "markdown",
   "id": "e55bd0b9",
   "metadata": {},
   "source": [
    "###### Pandas Data Structures\n",
    "\n",
    "Data structures in Pandas are designed to handle data efficiently. They allow for the organization, storage, and modification of data in a way that optimizes memory usage and computational performance. Python Pandas library provides two primary data structures for handling and analyzing data −\n",
    "\n",
    "- Series\n",
    "- DataFrame"
   ]
  },
  {
   "cell_type": "markdown",
   "id": "48b0ddc8",
   "metadata": {},
   "source": [
    "###### Series\n",
    "A Series is a one-dimensional labeled array that can hold any data type. It can store integers, strings, floating-point numbers, etc. Each value in a Series is associated with a label (index), which can be an integer or a string.\n",
    "\n",
    "|Index|data|\n",
    "| :- | :- |\n",
    "|Name \t|Steve\n",
    "|Age\t|35\n",
    "|Gender\t|Male\n",
    "|Rating\t|3.5"
   ]
  },
  {
   "cell_type": "code",
   "execution_count": 25,
   "id": "c596434b",
   "metadata": {},
   "outputs": [
    {
     "name": "stdout",
     "output_type": "stream",
     "text": [
      "Name      Steve\n",
      "Age          35\n",
      "Gender     Male\n",
      "Rating      3.5\n",
      "dtype: object\n"
     ]
    }
   ],
   "source": [
    "import pandas as pd\n",
    "\n",
    "data = ['Steve', '35', 'Male', '3.5']\n",
    "series = pd.Series(data, index=['Name', 'Age', 'Gender', 'Rating'])\n",
    "print(series)"
   ]
  },
  {
   "cell_type": "markdown",
   "id": "043cba20",
   "metadata": {},
   "source": [
    "###### DataFrame\n",
    "A DataFrame is a two-dimensional labeled data structure with columns that can hold different data types. It is similar to a table in a database or a spreadsheet. Consider the following data representing the performance rating of a sales team −\n",
    "\n",
    "|Name\t|Age\t|Gender\t|Rating|\n",
    "|:-|:-|:-|:-|\n",
    "|Steve\t|32\t|Male\t|3.45\n",
    "|Lia\t|28\t|Female\t|4.6\n",
    "|Vin\t|45\t|Male\t|3.9\n",
    "|Katie\t|38\t|Female\t|2.78"
   ]
  },
  {
   "cell_type": "code",
   "execution_count": 31,
   "id": "cd09e711",
   "metadata": {},
   "outputs": [
    {
     "name": "stdout",
     "output_type": "stream",
     "text": [
      "Index(['Name', 'Age', 'Gender', 'Rating'], dtype='object')\n"
     ]
    }
   ],
   "source": [
    "import pandas as pd\n",
    "\n",
    "# Data represented as a dictionary\n",
    "data = {\n",
    "    'Name': ['Steve', 'Lia', 'Vin', 'Katie'],\n",
    "    'Age': [32, 28, 45, 38],\n",
    "    'Gender': ['Male', 'Female', 'Male', 'Female'],\n",
    "    'Rating': [3.45, 4.6, 3.9, 2.78]\n",
    "}\n",
    "\n",
    "# Creating the DataFrame\n",
    "df = pd.DataFrame(data)\n",
    "\n",
    "# Display the DataFrame\n",
    "print(df.columns)\n",
    "\n"
   ]
  },
  {
   "cell_type": "markdown",
   "id": "249dcdf7",
   "metadata": {},
   "source": [
    "###### Pandas Series and DataFrame Attributes\n",
    "\n",
    "\n",
    "Common attribute of the both Series and DataFrame objects −\n",
    "\n",
    "|Sr.No.\t|Attribute & Description|\n",
    "|:-|:-|\n",
    "|1\t|***dtype***: Returns the data type of the elements in the Series or DataFrame.\n",
    "|2\t|***index***: Provides the index (row labels) of the Series or DataFrame.\n",
    "|3\t|***values***: Returns the data in the Series or DataFrame as a NumPy array.\n",
    "|4\t|***shape***: Returns a tuple representing the dimensionality of the DataFrame (rows, columns).\n",
    "|5\t|***ndim***: Returns the number of dimensions of the object. Series is always 1D, and DataFrame is 2D.\n",
    "|6\t|***size***: Gives the total number of elements in the object.\n",
    "|7\t|***empty***: Checks if the object is empty, and returns True if it is.\n",
    "|8\t|***columns***: Provides the column labels of the DataFrame object."
   ]
  },
  {
   "cell_type": "markdown",
   "id": "241cc32b",
   "metadata": {},
   "source": [
    "###### Example with Series"
   ]
  },
  {
   "cell_type": "code",
   "execution_count": 32,
   "id": "552e565e",
   "metadata": {},
   "outputs": [
    {
     "name": "stdout",
     "output_type": "stream",
     "text": [
      "Data type of Series: object\n",
      "Index of Series: Index(['Name', 'Age', 'Gender', 'Rating'], dtype='object')\n",
      "Values of Series: ['Steve' '35' 'Male' '3.5']\n",
      "Shape of Series: (4,)\n",
      "Number of dimensions of Series: 1\n",
      "Size of Series: 4\n",
      "Is Series empty?: False\n"
     ]
    }
   ],
   "source": [
    "import pandas as pd\n",
    "import numpy as np\n",
    "\n",
    "# Create a Series with random numbers\n",
    "s = series\n",
    "\n",
    "# Exploring attributes\n",
    "print(\"Data type of Series:\", s.dtype)\n",
    "print(\"Index of Series:\", s.index)\n",
    "print(\"Values of Series:\", s.values)\n",
    "print(\"Shape of Series:\", s.shape)\n",
    "print(\"Number of dimensions of Series:\", s.ndim)\n",
    "print(\"Size of Series:\", s.size)\n",
    "print(\"Is Series empty?:\", s.empty)"
   ]
  },
  {
   "cell_type": "markdown",
   "id": "98dbc336",
   "metadata": {},
   "source": [
    "###### Example with DataFrame"
   ]
  },
  {
   "cell_type": "code",
   "execution_count": 33,
   "id": "34ba2b92",
   "metadata": {},
   "outputs": [
    {
     "name": "stdout",
     "output_type": "stream",
     "text": [
      "DataFrame:\n",
      "    Name  Age  Gender  Rating\n",
      "0  Steve   32    Male    3.45\n",
      "1    Lia   28  Female    4.60\n",
      "2    Vin   45    Male    3.90\n",
      "3  Katie   38  Female    2.78\n",
      "Results:\n",
      "Data types: Name       object\n",
      "Age         int64\n",
      "Gender     object\n",
      "Rating    float64\n",
      "dtype: object\n",
      "Index: RangeIndex(start=0, stop=4, step=1)\n",
      "Columns: Index(['Name', 'Age', 'Gender', 'Rating'], dtype='object')\n",
      "Values: [['Steve' 32 'Male' 3.45]\n",
      " ['Lia' 28 'Female' 4.6]\n",
      " ['Vin' 45 'Male' 3.9]\n",
      " ['Katie' 38 'Female' 2.78]]\n",
      "Shape: (4, 4)\n",
      "Number of dimensions: 2\n",
      "Size: 16\n",
      "Is empty: False\n"
     ]
    }
   ],
   "source": [
    "import pandas as pd\n",
    "import numpy as np\n",
    "\n",
    "# Create a DataFrame with random numbers\n",
    "# df = pd.DataFrame(np.random.randn(3, 4), columns=list('ABCD'))\n",
    "\n",
    "print(\"DataFrame:\")\n",
    "print(df)\n",
    "\n",
    "print(\"Results:\")\n",
    "print(\"Data types:\", df.dtypes)\n",
    "print(\"Index:\", df.index)\n",
    "print(\"Columns:\", df.columns)\n",
    "print(\"Values:\", df.values)\n",
    "print(\"Shape:\", df.shape)\n",
    "print(\"Number of dimensions:\", df.ndim)\n",
    "print(\"Size:\", df.size)\n",
    "print(\"Is empty:\", df.empty)"
   ]
  }
 ],
 "metadata": {
  "kernelspec": {
   "display_name": "Python 3",
   "language": "python",
   "name": "python3"
  },
  "language_info": {
   "codemirror_mode": {
    "name": "ipython",
    "version": 3
   },
   "file_extension": ".py",
   "mimetype": "text/x-python",
   "name": "python",
   "nbconvert_exporter": "python",
   "pygments_lexer": "ipython3",
   "version": "3.8.8"
  }
 },
 "nbformat": 4,
 "nbformat_minor": 5
}
