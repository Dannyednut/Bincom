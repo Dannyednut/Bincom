{
 "cells": [
  {
   "cell_type": "code",
   "execution_count": 10,
   "id": "021464c9",
   "metadata": {},
   "outputs": [
    {
     "name": "stdout",
     "output_type": "stream",
     "text": [
      "Error playing MP3: file does not start with RIFF id\n"
     ]
    }
   ],
   "source": [
    "import simpleaudio as sa\n",
    "\n",
    "try:\n",
    "    wave_obj = sa.WaveObject.from_wave_file(\"output.wav\")  #simpleaudio prefers wav files.\n",
    "    play_obj = wave_obj.play()\n",
    "    play_obj.wait_done()  # Wait until sound has finished playing\n",
    "    print(\"MP3 played successfully!\")\n",
    "\n",
    "except Exception as e:\n",
    "    print(f\"Error playing MP3: {e}\")\n",
    "\n"
   ]
  },
  {
   "cell_type": "code",
   "execution_count": 3,
   "id": "7158d64a",
   "metadata": {},
   "outputs": [
    {
     "name": "stdout",
     "output_type": "stream",
     "text": [
      "c:\\Users\\SCENTECH SERVICES\\Desktop\\codes\\Bincom\\Tasks\\Voice Assistant\n"
     ]
    }
   ],
   "source": [
    "\n",
    "import os\n",
    "\n",
    "current_dir = os.getcwd()\n",
    "print(current_dir)\n",
    "\n"
   ]
  },
  {
   "cell_type": "code",
   "execution_count": 13,
   "id": "d83383ca",
   "metadata": {},
   "outputs": [],
   "source": [
    "import pygame\n",
    "from gtts import gTTS\n",
    "import os\n",
    "\n",
    "def text_to_speech_and_play_pygame(text, language='en'):\n",
    "    try:\n",
    "        tts = gTTS(text=text, lang=language)\n",
    "        filename = \"temp_audio.mp3\"\n",
    "        tts.save(filename)\n",
    "\n",
    "        pygame.mixer.init()\n",
    "        pygame.mixer.music.load(filename)\n",
    "        pygame.mixer.music.play()\n",
    "\n",
    "        # Wait for playback to finish\n",
    "        while pygame.mixer.music.get_busy():\n",
    "            pygame.time.Clock().tick(10)  # Control the loop speed\n",
    "\n",
    "        pygame.mixer.music.stop()  # Stop playback (optional)\n",
    "        pygame.mixer.quit()      # Uninitialize pygame\n",
    "        os.remove(filename)\n",
    "\n",
    "    except Exception as e:\n",
    "        print(f\"An error occurred: {e}\")\n",
    "\n",
    "\n",
    "text_to_speak = \"Hello, world! Using pygame for audio playback.\"\n",
    "text_to_speech_and_play_pygame(text_to_speak)"
   ]
  },
  {
   "cell_type": "code",
   "execution_count": 6,
   "id": "04ffbed2",
   "metadata": {},
   "outputs": [
    {
     "name": "stdout",
     "output_type": "stream",
     "text": [
      "{'code': 503, 'message': 'The model is overloaded. Please try again later.', 'status': 'UNAVAILABLE'}\n"
     ]
    }
   ],
   "source": [
    "raw = \"503 UNAVAILABLE. {'error': {'code': 503, 'message': 'The model is overloaded. Please try again later.', 'status': 'UNAVAILABLE'}}\"\n",
    "import ast\n",
    "# Split the string and extract the dict part\n",
    "error_part = raw.split(\". \", 1)[1]  # get the part after the first '. '\n",
    "error_dict = ast.literal_eval(error_part)\n",
    "print(error_dict['error'])"
   ]
  }
 ],
 "metadata": {
  "kernelspec": {
   "display_name": "Python 3",
   "language": "python",
   "name": "python3"
  },
  "language_info": {
   "codemirror_mode": {
    "name": "ipython",
    "version": 3
   },
   "file_extension": ".py",
   "mimetype": "text/x-python",
   "name": "python",
   "nbconvert_exporter": "python",
   "pygments_lexer": "ipython3",
   "version": "3.9.13"
  }
 },
 "nbformat": 4,
 "nbformat_minor": 5
}
