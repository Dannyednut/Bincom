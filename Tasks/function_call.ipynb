{
 "cells": [
  {
   "cell_type": "code",
   "execution_count": 1,
   "id": "6d64c399",
   "metadata": {},
   "outputs": [],
   "source": [
    "from google import genai\n",
    "from google.genai.types import FunctionDeclaration, Tool, Part, Content, GenerateContentConfig\n",
    "import os\n",
    "from dotenv import load_dotenv\n",
    "import requests\n",
    "\n",
    "load_dotenv(dotenv_path='./Voice Assistant/config.env')\n",
    "API_KEY = os.getenv('Gemini_api')\n",
    "client = genai.Client(api_key=API_KEY)"
   ]
  },
  {
   "cell_type": "code",
   "execution_count": 2,
   "id": "c3bcea64",
   "metadata": {},
   "outputs": [],
   "source": [
    "get_weather = FunctionDeclaration(\n",
    "    name = \"get_weather\",\n",
    "    description = \"Get the weather information of a given city or country e.g new york, CA, London.\",\n",
    "    parameters = {\n",
    "        \"type\": \"object\",\n",
    "        \"properties\": {\n",
    "            \"city\":{\"type\": \"string\", \"description\": \"The city, state or country for which weather information is requested. Use none abbreviated format e.g California instead of CA\"},\n",
    "        },\n",
    "        \"required\" : [\"city\"]\n",
    "    }\n",
    "    \n",
    ")\n",
    "\n",
    "tools = Tool(function_declarations=[get_weather])\n",
    "\n",
    "chat = client.chats.create(\n",
    "    model='gemini-2.0-flash',\n",
    "    config=GenerateContentConfig(\n",
    "        temperature=0,\n",
    "        tools=[tools],\n",
    "    )\n",
    ")\n",
    "\n",
    "\n",
    "def get_weather(city: str):\n",
    "    url = \"https://open-weather13.p.rapidapi.com/fourdaysforcast\"\n",
    "\n",
    "    querystring = {\"latitude\":\"40.730610\",\"longitude\":\"-73.935242\",\"lang\":\"EN\"}#{\"city\":{city},\"lang\":\"EN\"}\n",
    "\n",
    "    headers = {\n",
    "        \"x-rapidapi-key\": \"29bebcf5f9mshf855f3f413c113dp1e971fjsnfefc42af113e\",\n",
    "        \"x-rapidapi-host\": \"open-weather13.p.rapidapi.com\"\n",
    "    }\n",
    "\n",
    "    response = requests.get(url, headers=headers, params=querystring)\n",
    "\n",
    "    return response.json()"
   ]
  },
  {
   "cell_type": "code",
   "execution_count": 4,
   "id": "ac3facf8",
   "metadata": {},
   "outputs": [
    {
     "name": "stdout",
     "output_type": "stream",
     "text": [
      "get_weather\n",
      "id=None args={'city': 'Lagos'} name='get_weather'\n",
      "I am sorry, I cannot fulfill this request. The available tool does not seem to be working correctly.\n",
      "\n"
     ]
    }
   ],
   "source": [
    "while True:\n",
    "    prompt = input('You: ')#\"What is the current weather in CA\"\n",
    "\n",
    "    response = chat.send_message(\n",
    "        message=prompt,\n",
    "    )\n",
    "    if response.candidates[0].content.parts[0].function_call:\n",
    "        print(response.candidates[0].content.parts[0].function_call.name)\n",
    "        function_call = response.candidates[0].content.parts[0].function_call\n",
    "        print(function_call)\n",
    "        response = chat.send_message(\n",
    "            Part.from_function_response(\n",
    "                name=\"get_weather\",\n",
    "                response={\n",
    "                    \"content\": get_weather(function_call.args['city'])\n",
    "                }\n",
    "            )\n",
    "        )\n",
    "        print(response.text)\n",
    "        break\n",
    "    else:\n",
    "        print(response.text)\n",
    "\n",
    "result = function_call.args"
   ]
  },
  {
   "cell_type": "code",
   "execution_count": 20,
   "id": "5281c371",
   "metadata": {},
   "outputs": [
    {
     "name": "stdout",
     "output_type": "stream",
     "text": [
      "The weather in Los Angeles is clear with a temperature of 80.19 degrees Fahrenheit, but it feels like 81.48 degrees Fahrenheit. The wind is blowing from the southwest at 6.91 mph.\n",
      "\n"
     ]
    }
   ],
   "source": [
    "response = chat.send_message(\n",
    "    Part.from_function_response(\n",
    "        name=\"get_weather\",\n",
    "        response={\n",
    "            \"content\": get_weather(result['city'])\n",
    "        }\n",
    "    )\n",
    ")\n",
    "print(response.text)"
   ]
  },
  {
   "cell_type": "code",
   "execution_count": 10,
   "id": "a536d39a",
   "metadata": {},
   "outputs": [],
   "source": [
    "import json\n",
    "\n",
    "def store_user_info(username: str, occupation: str):\n",
    "    database = \"database.json\"\n",
    "    with open(database, 'r') as file:\n",
    "        data = json.load(file)\n",
    "    \n",
    "    if username in data['users']:\n",
    "        data['users'][username]['occupation'] = occupation\n",
    "    else:\n",
    "        data['users'][username] = {'occupation': occupation}\n",
    "\n",
    "    with open(database, 'w') as file:\n",
    "        json.dump(data, file)\n",
    "\n",
    "store_user_info('Tunde', 'programmer')\n"
   ]
  },
  {
   "cell_type": "code",
   "execution_count": 15,
   "id": "9d6595ec",
   "metadata": {},
   "outputs": [
    {
     "name": "stdout",
     "output_type": "stream",
     "text": [
      "[{'metar_id': 793154811, 'icaoId': 'KMCI', 'receiptTime': '2025-07-10 14:56:52', 'obsTime': 1752159180, 'reportTime': '2025-07-10 15:00:00', 'temp': 28.3, 'dewp': 22.8, 'wdir': 210, 'wspd': 9, 'wgst': None, 'visib': '10+', 'altim': 1014.6, 'slp': 1013.3, 'qcField': 4, 'wxString': None, 'presTend': -0.6, 'maxT': None, 'minT': None, 'maxT24': None, 'minT24': None, 'precip': None, 'pcp3hr': None, 'pcp6hr': None, 'pcp24hr': None, 'snow': None, 'vertVis': None, 'metarType': 'METAR', 'rawOb': 'KMCI 101453Z 21009KT 10SM FEW140 SCT240 28/23 A2996 RMK AO2 SLP133 T02830228 55006', 'mostRecent': 1, 'lat': 39.2975, 'lon': -94.7309, 'elev': 308, 'prior': 1, 'name': 'Kansas City Intl, MO, US', 'clouds': [{'cover': 'FEW', 'base': 14000}, {'cover': 'SCT', 'base': 24000}]}]\n"
     ]
    }
   ],
   "source": [
    "import requests\n",
    "\n",
    "print(requests.get(\"https://aviationweather.gov/api/data/metar?ids=KMCI&format=json\").json())"
   ]
  }
 ],
 "metadata": {
  "kernelspec": {
   "display_name": "Python 3",
   "language": "python",
   "name": "python3"
  },
  "language_info": {
   "codemirror_mode": {
    "name": "ipython",
    "version": 3
   },
   "file_extension": ".py",
   "mimetype": "text/x-python",
   "name": "python",
   "nbconvert_exporter": "python",
   "pygments_lexer": "ipython3",
   "version": "3.9.13"
  }
 },
 "nbformat": 4,
 "nbformat_minor": 5
}
