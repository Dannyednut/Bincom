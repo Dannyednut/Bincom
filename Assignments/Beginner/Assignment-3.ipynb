{
 "cells": [
  {
   "cell_type": "markdown",
   "id": "1bdc6d7a",
   "metadata": {},
   "source": [
    "### 1. Implement a Fibonacci series generator."
   ]
  },
  {
   "cell_type": "code",
   "execution_count": 15,
   "id": "1ad6c248",
   "metadata": {},
   "outputs": [
    {
     "name": "stdout",
     "output_type": "stream",
     "text": [
      "<generator object fibonacci at 0x00000291D360E7B0>\n",
      "[1, 2, 3, 5, 8]\n"
     ]
    }
   ],
   "source": [
    "def fibonacci(n):\n",
    "    a,b = 0, 1\n",
    "    \n",
    "    while True:\n",
    "        c= a + b\n",
    "        if c >= n:\n",
    "            break\n",
    "        \n",
    "        yield(c)\n",
    "        a, b = b, c\n",
    "    return\n",
    "\n",
    "series = fibonacci(10)\n",
    "print(series)\n",
    "print([x for x in series])"
   ]
  },
  {
   "cell_type": "markdown",
   "id": "b8502c59",
   "metadata": {},
   "source": [
    "### 2. Build a to-do list in python and use Postgres for persistent storage."
   ]
  },
  {
   "cell_type": "code",
   "execution_count": null,
   "id": "3c329a13",
   "metadata": {},
   "outputs": [
    {
     "name": "stdout",
     "output_type": "stream",
     "text": [
      "storing a total of 3 tasks.\n",
      "Task added.\n",
      "Task added.\n",
      "Task added.\n"
     ]
    }
   ],
   "source": [
    "import psycopg2\n",
    "\n",
    "class Storage:\n",
    "    # DB connection config\n",
    "    DB_CONFIG = {\n",
    "        'dbname': 'test',\n",
    "        'user': 'postgres',\n",
    "        'password': 'xxx',\n",
    "        'host': 'localhost',\n",
    "        'port': '5432'\n",
    "    }\n",
    "\n",
    "    def __init__(cls):\n",
    "        pass\n",
    "\n",
    "    def get_connection(cls): return psycopg2.connect(**cls.DB_CONFIG)\n",
    "\n",
    "    def add_task(cls, task):\n",
    "        with cls.get_connection() as conn:\n",
    "            with conn.cursor() as cur:\n",
    "                cur.execute(\"INSERT INTO todos (task) VALUES (%s)\", (task,))\n",
    "            conn.commit()\n",
    "            \n",
    "        print(\"Task added.\")\n",
    "\n",
    "    def complete_task(cls, task_id):\n",
    "        with cls.get_connection() as conn:\n",
    "            with conn.cursor() as cur:\n",
    "                cur.execute(\"UPDATE todos SET completed = TRUE WHERE id = %s\", (task_id,))\n",
    "            conn.commit()\n",
    "        print(\"Task marked as completed.\")\n",
    "\n",
    "    # Delete task\n",
    "    def delete_task(cls, task_id):\n",
    "        with cls.get_connection() as conn:\n",
    "            with conn.cursor() as cur:\n",
    "                cur.execute(\"DELETE FROM todos WHERE id = %s\", (task_id,))\n",
    "            conn.commit()\n",
    "        print(\"Task deleted.\")\n",
    "\n",
    "\n",
    "storage = Storage()\n",
    "\n",
    "tasks_str = input(\"Enter your list of tasks sepearted by comma(,): \")\n",
    "task_list = tasks_str.split(',')\n",
    "print(f\"storing a total of {len(task_list)} tasks.\")\n",
    "for i in task_list:\n",
    "    storage.add_task(i.strip())"
   ]
  },
  {
   "cell_type": "markdown",
   "id": "5d3c6fb5",
   "metadata": {},
   "source": [
    "### 3. Create a Postgres database with tables and perform crud operations."
   ]
  },
  {
   "cell_type": "code",
   "execution_count": 12,
   "id": "8fa596fd",
   "metadata": {},
   "outputs": [
    {
     "name": "stdout",
     "output_type": "stream",
     "text": [
      "Table created\n",
      "Read all data from table\n",
      ">>No data found<<\n",
      "Table updated with 3 rows.\n",
      "Row 1 deleted.\n"
     ]
    }
   ],
   "source": [
    "def create():\n",
    "    with storage.get_connection() as conn:\n",
    "        with conn.cursor() as cur:\n",
    "            cur.execute(\"\"\"\n",
    "                CREATE TABLE IF NOT EXISTS persons (\n",
    "                    id SERIAL,\n",
    "                    first_name TEXT,\n",
    "                    last_name TEXT,\n",
    "                    age INT,\n",
    "                    PRIMARY KEY (id)\n",
    "                );\n",
    "            \"\"\")\n",
    "        conn.commit()\n",
    "    print('Table created')\n",
    "\n",
    "def read():\n",
    "    with storage.get_connection() as conn:\n",
    "        with conn.cursor() as cur:\n",
    "            cur.execute(\"SELECT * FROM persons\")\n",
    "            rows = cur.fetchall()\n",
    "            if rows:\n",
    "                for row in rows:\n",
    "                    print(row)\n",
    "            else:\n",
    "                print(\">>No data found<<\")\n",
    "\n",
    "def update():\n",
    "    with storage.get_connection() as conn:\n",
    "        with conn.cursor() as cur:\n",
    "            cur.execute(\"\"\"\n",
    "                INSERT INTO persons (\n",
    "                    first_name,\n",
    "                    last_name,\n",
    "                    age\n",
    "                ) VALUES \n",
    "                    ('Ola', 'Hensen', 25),\n",
    "                    ('Tove', 'Svendson', 23),\n",
    "                    ('Kari', 'Petterson', 20);\n",
    "            \"\"\")\n",
    "        conn.commit()\n",
    "    print(\"Table updated with 3 rows.\")\n",
    "\n",
    "def delete(id):\n",
    "    with storage.get_connection() as conn:\n",
    "        with conn.cursor() as cur:\n",
    "            cur.execute(\"DELETE FROM persons WHERE id = %s\", (id,))\n",
    "        conn.commit()\n",
    "    print(f\"Row {id} deleted.\")\n",
    "\n",
    "def crud():\n",
    "    create()\n",
    "    print(\"Read all data from table\")\n",
    "    read()\n",
    "    update()\n",
    "    delete(1)\n",
    "\n",
    "crud()"
   ]
  },
  {
   "cell_type": "markdown",
   "id": "59e93fe0",
   "metadata": {},
   "source": [
    "### 4. save babynames (extracted previously with regex) to postgres table."
   ]
  },
  {
   "cell_type": "code",
   "execution_count": 7,
   "id": "ba7d5857",
   "metadata": {},
   "outputs": [
    {
     "name": "stdout",
     "output_type": "stream",
     "text": [
      "Table created\n",
      "Names added.\n"
     ]
    }
   ],
   "source": [
    "from Assignment_2.Extract_baby_names import extract_names\n",
    "\n",
    "def create_table():\n",
    "    with storage.get_connection() as conn:\n",
    "        with conn.cursor() as cur:\n",
    "            cur.execute(\"\"\"\n",
    "                CREATE TABLE IF NOT EXISTS baby_names (\n",
    "                    id SERIAL,\n",
    "                    male_names TEXT,\n",
    "                    female_names TEXT,\n",
    "                    PRIMARY KEY (id)\n",
    "                );\n",
    "            \"\"\")\n",
    "        conn.commit()\n",
    "    print('Table created')\n",
    "\n",
    "def add_names(male_names, female_names):\n",
    "    with storage.get_connection() as conn:\n",
    "        with conn.cursor() as cur:\n",
    "            for n in range(len(male_names)): \n",
    "                cur.execute(\"INSERT INTO baby_names (male_names, female_names) VALUES (%s, %s)\", (male_names[n], female_names[n]))\n",
    "        conn.commit()\n",
    "    print(\"Names added.\")\n",
    "\n",
    "def main():\n",
    "    file_path = 'Assignment_2/baby2008.html'\n",
    "    male_names, female_names = extract_names(file_path)\n",
    "    create_table()\n",
    "    add_names(male_names, female_names)\n",
    "\n",
    "main()"
   ]
  }
 ],
 "metadata": {
  "kernelspec": {
   "display_name": "Python 3",
   "language": "python",
   "name": "python3"
  },
  "language_info": {
   "codemirror_mode": {
    "name": "ipython",
    "version": 3
   },
   "file_extension": ".py",
   "mimetype": "text/x-python",
   "name": "python",
   "nbconvert_exporter": "python",
   "pygments_lexer": "ipython3",
   "version": "3.9.13"
  }
 },
 "nbformat": 4,
 "nbformat_minor": 5
}
