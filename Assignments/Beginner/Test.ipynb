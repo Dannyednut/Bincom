{
 "cells": [
  {
   "cell_type": "markdown",
   "id": "d12f5610",
   "metadata": {},
   "source": [
    "### 1. Implement a Fibonacci series generator.\n",
    "\n"
   ]
  },
  {
   "cell_type": "code",
   "execution_count": 1,
   "id": "094346f6",
   "metadata": {},
   "outputs": [
    {
     "name": "stdout",
     "output_type": "stream",
     "text": [
      "<generator object fibonacci at 0x0000021D53A9BAE0>\n",
      "[1, 2, 3, 5, 8]\n"
     ]
    }
   ],
   "source": [
    "def fibonacci(n):\n",
    "    a,b = 0, 1\n",
    "    \n",
    "    while True:\n",
    "        c= a + b\n",
    "        if c >= n:\n",
    "            break\n",
    "        \n",
    "        yield(c)\n",
    "        a, b = b, c\n",
    "    return\n",
    "\n",
    "series = fibonacci(10)\n",
    "print(series)\n",
    "print([x for x in series])"
   ]
  },
  {
   "cell_type": "markdown",
   "id": "75845991",
   "metadata": {},
   "source": [
    "### 2. Build a to-do list in python and use Postgres for persistent storage.\n"
   ]
  },
  {
   "cell_type": "code",
   "execution_count": 19,
   "id": "0e623c92",
   "metadata": {},
   "outputs": [
    {
     "name": "stdout",
     "output_type": "stream",
     "text": [
      "(12, 'Go to work', False)\n",
      "(13, 'Take bath', False)\n",
      "(11, 'sleep', True)\n"
     ]
    }
   ],
   "source": [
    "import psycopg2\n",
    "\n",
    "class Storage:\n",
    "    # DB connection config\n",
    "    DB_CONFIG = {\n",
    "        'dbname': 'test',\n",
    "        'user': 'postgres',\n",
    "        'password': 'Tunddy20',\n",
    "        'host': 'localhost',\n",
    "        'port': '5432'\n",
    "    }\n",
    "\n",
    "    def __init__(cls):\n",
    "        pass\n",
    "\n",
    "    def get_connection(cls): return psycopg2.connect(**cls.DB_CONFIG)\n",
    "\n",
    "    def add_task(cls, task):\n",
    "        with cls.get_connection() as conn:\n",
    "            with conn.cursor() as cur:\n",
    "                cur.execute(\"INSERT INTO todos (task) VALUES (%s)\", (task,))\n",
    "            conn.commit()\n",
    "            \n",
    "        print(\"Task added.\")\n",
    "\n",
    "    def complete_task(cls, task_id):\n",
    "        with cls.get_connection() as conn:\n",
    "            with conn.cursor() as cur:\n",
    "                cur.execute(\"UPDATE todos SET completed = TRUE WHERE id = %s\", (task_id,))\n",
    "            conn.commit()\n",
    "        print(\"Task marked as completed.\")\n",
    "\n",
    "    # Delete task\n",
    "    def delete_task(cls, task_id):\n",
    "        with cls.get_connection() as conn:\n",
    "            with conn.cursor() as cur:\n",
    "                cur.execute(\"DELETE FROM todos WHERE id = %s\", (task_id,))\n",
    "            conn.commit()\n",
    "        print(\"Task deleted.\")\n",
    "\n",
    "    def read(cls):\n",
    "        with storage.get_connection() as conn:\n",
    "            with conn.cursor() as cur:\n",
    "                cur.execute(\"SELECT * FROM todos\")\n",
    "                rows = cur.fetchall()\n",
    "                if rows:\n",
    "                    for row in rows:\n",
    "                        print(row)\n",
    "                else:\n",
    "                    print(\"No data found.\")\n",
    "\n",
    "\n",
    "storage = Storage()\n",
    "\n",
    "# tasks_str = input(\"Enter your list of tasks sepearted by comma(,): \")\n",
    "# task_list = tasks_str.split(',')\n",
    "# print(f\"storing a total of {len(task_list)} tasks.\")\n",
    "# for i in task_list:\n",
    "#     storage.add_task(i.strip())\n",
    "storage.read()\n",
    "\n",
    "\n",
    "    "
   ]
  }
 ],
 "metadata": {
  "kernelspec": {
   "display_name": "Python 3",
   "language": "python",
   "name": "python3"
  },
  "language_info": {
   "codemirror_mode": {
    "name": "ipython",
    "version": 3
   },
   "file_extension": ".py",
   "mimetype": "text/x-python",
   "name": "python",
   "nbconvert_exporter": "python",
   "pygments_lexer": "ipython3",
   "version": "3.9.13"
  }
 },
 "nbformat": 4,
 "nbformat_minor": 5
}
