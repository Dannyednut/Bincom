{
 "cells": [
  {
   "cell_type": "code",
   "execution_count": 1,
   "id": "d14edfb6",
   "metadata": {},
   "outputs": [],
   "source": [
    "import numpy as np\n",
    "import pandas as pd\n",
    "import matplotlib.pyplot as plt\n",
    "import seaborn as sns\n",
    "from sklearn.model_selection import train_test_split\n",
    "import math  \n",
    "import sklearn.metrics  \n",
    "from sklearn.linear_model import LinearRegression\n",
    "from sklearn.ensemble import RandomForestRegressor\n",
    "from sklearn.pipeline import Pipeline"
   ]
  },
  {
   "cell_type": "code",
   "execution_count": 10,
   "id": "922e39f5",
   "metadata": {},
   "outputs": [
    {
     "name": "stdout",
     "output_type": "stream",
     "text": [
      "   instant      dteday  season  yr  mnth  hr  holiday  weekday  workingday  \\\n",
      "0        1  2011-01-01       1   0     1   0        0        6           0   \n",
      "1        2  2011-01-01       1   0     1   1        0        6           0   \n",
      "2        3  2011-01-01       1   0     1   2        0        6           0   \n",
      "3        4  2011-01-01       1   0     1   3        0        6           0   \n",
      "4        5  2011-01-01       1   0     1   4        0        6           0   \n",
      "\n",
      "   weathersit  temp   atemp   hum  windspeed  casual  registered  cnt  \n",
      "0           1  0.24  0.2879  0.81        0.0       3          13   16  \n",
      "1           1  0.22  0.2727  0.80        0.0       8          32   40  \n",
      "2           1  0.22  0.2727  0.80        0.0       5          27   32  \n",
      "3           1  0.24  0.2879  0.75        0.0       3          10   13  \n",
      "4           1  0.24  0.2879  0.75        0.0       0           1    1  \n"
     ]
    }
   ],
   "source": [
    "data = pd.read_csv('dataset/bike_sharing_dataset/hour.csv')\n",
    "print(data.head())"
   ]
  },
  {
   "cell_type": "code",
   "execution_count": 11,
   "id": "a5d620b2",
   "metadata": {},
   "outputs": [
    {
     "name": "stdout",
     "output_type": "stream",
     "text": [
      "Index(['instant', 'dteday', 'season', 'yr', 'mnth', 'hr', 'holiday', 'weekday',\n",
      "       'workingday', 'weathersit', 'temp', 'atemp', 'hum', 'windspeed',\n",
      "       'casual', 'registered', 'cnt'],\n",
      "      dtype='object')\n"
     ]
    }
   ],
   "source": [
    "print(data.columns)"
   ]
  },
  {
   "cell_type": "code",
   "execution_count": 12,
   "id": "2d531bd7",
   "metadata": {},
   "outputs": [
    {
     "name": "stdout",
     "output_type": "stream",
     "text": [
      "<class 'pandas.core.frame.DataFrame'>\n",
      "RangeIndex: 17379 entries, 0 to 17378\n",
      "Data columns (total 17 columns):\n",
      " #   Column      Non-Null Count  Dtype  \n",
      "---  ------      --------------  -----  \n",
      " 0   instant     17379 non-null  int64  \n",
      " 1   dteday      17379 non-null  object \n",
      " 2   season      17379 non-null  int64  \n",
      " 3   yr          17379 non-null  int64  \n",
      " 4   mnth        17379 non-null  int64  \n",
      " 5   hr          17379 non-null  int64  \n",
      " 6   holiday     17379 non-null  int64  \n",
      " 7   weekday     17379 non-null  int64  \n",
      " 8   workingday  17379 non-null  int64  \n",
      " 9   weathersit  17379 non-null  int64  \n",
      " 10  temp        17379 non-null  float64\n",
      " 11  atemp       17379 non-null  float64\n",
      " 12  hum         17379 non-null  float64\n",
      " 13  windspeed   17379 non-null  float64\n",
      " 14  casual      17379 non-null  int64  \n",
      " 15  registered  17379 non-null  int64  \n",
      " 16  cnt         17379 non-null  int64  \n",
      "dtypes: float64(4), int64(12), object(1)\n",
      "memory usage: 2.3+ MB\n",
      "None\n"
     ]
    }
   ],
   "source": [
    "print(data.info())"
   ]
  },
  {
   "cell_type": "code",
   "execution_count": 13,
   "id": "038db0cb",
   "metadata": {},
   "outputs": [
    {
     "name": "stdout",
     "output_type": "stream",
     "text": [
      "   index    datetime  season  year  month  hour  holiday  weekday  workingday  \\\n",
      "0      1  2011-01-01       1     0      1     0        0        6           0   \n",
      "1      2  2011-01-01       1     0      1     1        0        6           0   \n",
      "2      3  2011-01-01       1     0      1     2        0        6           0   \n",
      "3      4  2011-01-01       1     0      1     3        0        6           0   \n",
      "4      5  2011-01-01       1     0      1     4        0        6           0   \n",
      "\n",
      "   weather_conditions  temp   atemp  humidity  windspeed  casual  registered  \\\n",
      "0                   1  0.24  0.2879      0.81        0.0       3          13   \n",
      "1                   1  0.22  0.2727      0.80        0.0       8          32   \n",
      "2                   1  0.22  0.2727      0.80        0.0       5          27   \n",
      "3                   1  0.24  0.2879      0.75        0.0       3          10   \n",
      "4                   1  0.24  0.2879      0.75        0.0       0           1   \n",
      "\n",
      "   count  \n",
      "0     16  \n",
      "1     40  \n",
      "2     32  \n",
      "3     13  \n",
      "4      1  \n"
     ]
    }
   ],
   "source": [
    "data.rename(columns={\n",
    "    'instant': 'index',\n",
    "    'dteday': 'datetime',\n",
    "    'yr': 'year',\n",
    "    'mnth': 'month',\n",
    "    'hr': 'hour',\n",
    "    'weathersit':'weather_conditions',\n",
    "    'hum': 'humidity',\n",
    "    'cnt': 'count'\n",
    "}, inplace=True)\n",
    "\n",
    "print(data.head())"
   ]
  },
  {
   "cell_type": "code",
   "execution_count": 14,
   "id": "18de3d25",
   "metadata": {},
   "outputs": [
    {
     "data": {
      "image/png": "[encoded data removed]",
      "text/plain": [
       "<Figure size 1000x600 with 1 Axes>"
      ]
     },
     "metadata": {},
     "output_type": "display_data"
    }
   ],
   "source": [
    "plt.figure(figsize=(10,6))\n",
    "plt.scatter(data['count'], data['registered'], c='black', s= 5, label = 'Registered')\n",
    "plt.scatter(data['count'], data['casual'], c='red', s=5, label = 'Casual')\n",
    "plt.legend()\n",
    "plt.show()"
   ]
  },
  {
   "cell_type": "code",
   "execution_count": 15,
   "id": "158dbfe1",
   "metadata": {},
   "outputs": [
    {
     "name": "stdout",
     "output_type": "stream",
     "text": [
      "     datetime  season  year  month  hour  holiday  weekday  workingday  \\\n",
      "0  2011-01-01       1     0      1     0        0        6           0   \n",
      "1  2011-01-01       1     0      1     1        0        6           0   \n",
      "2  2011-01-01       1     0      1     2        0        6           0   \n",
      "3  2011-01-01       1     0      1     3        0        6           0   \n",
      "4  2011-01-01       1     0      1     4        0        6           0   \n",
      "\n",
      "   weather_conditions  temp   atemp  humidity  windspeed  count  \n",
      "0                   1  0.24  0.2879      0.81        0.0     16  \n",
      "1                   1  0.22  0.2727      0.80        0.0     40  \n",
      "2                   1  0.22  0.2727      0.80        0.0     32  \n",
      "3                   1  0.24  0.2879      0.75        0.0     13  \n",
      "4                   1  0.24  0.2879      0.75        0.0      1  \n"
     ]
    }
   ],
   "source": [
    "data.drop(['index', 'registered', 'casual'], axis=1, inplace=True)\n",
    "print(data.head())"
   ]
  },
  {
   "cell_type": "code",
   "execution_count": 16,
   "id": "03d4ad87",
   "metadata": {},
   "outputs": [
    {
     "data": {
      "text/plain": [
       "<Axes: >"
      ]
     },
     "execution_count": 16,
     "metadata": {},
     "output_type": "execute_result"
    },
    {
     "data": {
      "image/png": "[encoded data removed]",
      "text/plain": [
       "<Figure size 800x600 with 2 Axes>"
      ]
     },
     "metadata": {},
     "output_type": "display_data"
    }
   ],
   "source": [
    "data['datetime'] = pd.to_datetime(data.datetime)\n",
    "# categorical variables\n",
    "data['season'] = data.season.astype('category')\n",
    "data['holiday'] = data.holiday.astype('category')\n",
    "data['weekday'] = data.weekday.astype('category')\n",
    "data['weather_conditions'] = data.weather_conditions.astype('category')\n",
    "data['workingday'] = data.workingday.astype('category')\n",
    "data['month'] = data.month.astype('category')\n",
    "data['year'] = data.year.astype('category')\n",
    "data['hour'] = data.hour.astype('category')\n",
    "plt.figure(figsize = (8,6))\n",
    "sns.heatmap(data[['count', 'humidity', 'windspeed', 'temp', 'atemp']].corr(),annot = True, cmap = 'BrBG')"
   ]
  },
  {
   "cell_type": "code",
   "execution_count": 17,
   "id": "85bfaa52",
   "metadata": {},
   "outputs": [
    {
     "data": {
      "application/vnd.microsoft.datawrangler.viewer.v0+json": {
       "columns": [
        {
         "name": "index",
         "rawType": "int64",
         "type": "integer"
        },
        {
         "name": "datetime",
         "rawType": "datetime64[ns]",
         "type": "datetime"
        },
        {
         "name": "season",
         "rawType": "category",
         "type": "unknown"
        },
        {
         "name": "year",
         "rawType": "category",
         "type": "unknown"
        },
        {
         "name": "month",
         "rawType": "category",
         "type": "unknown"
        },
        {
         "name": "hour",
         "rawType": "category",
         "type": "unknown"
        },
        {
         "name": "holiday",
         "rawType": "category",
         "type": "unknown"
        },
        {
         "name": "weekday",
         "rawType": "category",
         "type": "unknown"
        },
        {
         "name": "workingday",
         "rawType": "category",
         "type": "unknown"
        },
        {
         "name": "weather_conditions",
         "rawType": "category",
         "type": "unknown"
        },
        {
         "name": "temp",
         "rawType": "float64",
         "type": "float"
        },
        {
         "name": "humidity",
         "rawType": "float64",
         "type": "float"
        },
        {
         "name": "windspeed",
         "rawType": "float64",
         "type": "float"
        },
        {
         "name": "count",
         "rawType": "int64",
         "type": "integer"
        }
       ],
       "conversionMethod": "pd.DataFrame",
       "ref": "83aa8277-1a94-4558-a08d-20d22f44edd5",
       "rows": [
        [
         "0",
         "2011-01-01 00:00:00",
         "1",
         "0",
         "1",
         "0",
         "0",
         "6",
         "0",
         "1",
         "0.24",
         "0.81",
         "0.0",
         "16"
        ],
        [
         "1",
         "2011-01-01 00:00:00",
         "1",
         "0",
         "1",
         "1",
         "0",
         "6",
         "0",
         "1",
         "0.22",
         "0.8",
         "0.0",
         "40"
        ],
        [
         "2",
         "2011-01-01 00:00:00",
         "1",
         "0",
         "1",
         "2",
         "0",
         "6",
         "0",
         "1",
         "0.22",
         "0.8",
         "0.0",
         "32"
        ],
        [
         "3",
         "2011-01-01 00:00:00",
         "1",
         "0",
         "1",
         "3",
         "0",
         "6",
         "0",
         "1",
         "0.24",
         "0.75",
         "0.0",
         "13"
        ],
        [
         "4",
         "2011-01-01 00:00:00",
         "1",
         "0",
         "1",
         "4",
         "0",
         "6",
         "0",
         "1",
         "0.24",
         "0.75",
         "0.0",
         "1"
        ]
       ],
       "shape": {
        "columns": 13,
        "rows": 5
       }
      },
      "text/html": [
       "<div>\n",
       "<style scoped>\n",
       "    .dataframe tbody tr th:only-of-type {\n",
       "        vertical-align: middle;\n",
       "    }\n",
       "\n",
       "    .dataframe tbody tr th {\n",
       "        vertical-align: top;\n",
       "    }\n",
       "\n",
       "    .dataframe thead th {\n",
       "        text-align: right;\n",
       "    }\n",
       "</style>\n",
       "<table border=\"1\" class=\"dataframe\">\n",
       "  <thead>\n",
       "    <tr style=\"text-align: right;\">\n",
       "      <th></th>\n",
       "      <th>datetime</th>\n",
       "      <th>season</th>\n",
       "      <th>year</th>\n",
       "      <th>month</th>\n",
       "      <th>hour</th>\n",
       "      <th>holiday</th>\n",
       "      <th>weekday</th>\n",
       "      <th>workingday</th>\n",
       "      <th>weather_conditions</th>\n",
       "      <th>temp</th>\n",
       "      <th>humidity</th>\n",
       "      <th>windspeed</th>\n",
       "      <th>count</th>\n",
       "    </tr>\n",
       "  </thead>\n",
       "  <tbody>\n",
       "    <tr>\n",
       "      <th>0</th>\n",
       "      <td>2011-01-01</td>\n",
       "      <td>1</td>\n",
       "      <td>0</td>\n",
       "      <td>1</td>\n",
       "      <td>0</td>\n",
       "      <td>0</td>\n",
       "      <td>6</td>\n",
       "      <td>0</td>\n",
       "      <td>1</td>\n",
       "      <td>0.24</td>\n",
       "      <td>0.81</td>\n",
       "      <td>0.0</td>\n",
       "      <td>16</td>\n",
       "    </tr>\n",
       "    <tr>\n",
       "      <th>1</th>\n",
       "      <td>2011-01-01</td>\n",
       "      <td>1</td>\n",
       "      <td>0</td>\n",
       "      <td>1</td>\n",
       "      <td>1</td>\n",
       "      <td>0</td>\n",
       "      <td>6</td>\n",
       "      <td>0</td>\n",
       "      <td>1</td>\n",
       "      <td>0.22</td>\n",
       "      <td>0.80</td>\n",
       "      <td>0.0</td>\n",
       "      <td>40</td>\n",
       "    </tr>\n",
       "    <tr>\n",
       "      <th>2</th>\n",
       "      <td>2011-01-01</td>\n",
       "      <td>1</td>\n",
       "      <td>0</td>\n",
       "      <td>1</td>\n",
       "      <td>2</td>\n",
       "      <td>0</td>\n",
       "      <td>6</td>\n",
       "      <td>0</td>\n",
       "      <td>1</td>\n",
       "      <td>0.22</td>\n",
       "      <td>0.80</td>\n",
       "      <td>0.0</td>\n",
       "      <td>32</td>\n",
       "    </tr>\n",
       "    <tr>\n",
       "      <th>3</th>\n",
       "      <td>2011-01-01</td>\n",
       "      <td>1</td>\n",
       "      <td>0</td>\n",
       "      <td>1</td>\n",
       "      <td>3</td>\n",
       "      <td>0</td>\n",
       "      <td>6</td>\n",
       "      <td>0</td>\n",
       "      <td>1</td>\n",
       "      <td>0.24</td>\n",
       "      <td>0.75</td>\n",
       "      <td>0.0</td>\n",
       "      <td>13</td>\n",
       "    </tr>\n",
       "    <tr>\n",
       "      <th>4</th>\n",
       "      <td>2011-01-01</td>\n",
       "      <td>1</td>\n",
       "      <td>0</td>\n",
       "      <td>1</td>\n",
       "      <td>4</td>\n",
       "      <td>0</td>\n",
       "      <td>6</td>\n",
       "      <td>0</td>\n",
       "      <td>1</td>\n",
       "      <td>0.24</td>\n",
       "      <td>0.75</td>\n",
       "      <td>0.0</td>\n",
       "      <td>1</td>\n",
       "    </tr>\n",
       "  </tbody>\n",
       "</table>\n",
       "</div>"
      ],
      "text/plain": [
       "    datetime season year month hour holiday weekday workingday  \\\n",
       "0 2011-01-01      1    0     1    0       0       6          0   \n",
       "1 2011-01-01      1    0     1    1       0       6          0   \n",
       "2 2011-01-01      1    0     1    2       0       6          0   \n",
       "3 2011-01-01      1    0     1    3       0       6          0   \n",
       "4 2011-01-01      1    0     1    4       0       6          0   \n",
       "\n",
       "  weather_conditions  temp  humidity  windspeed  count  \n",
       "0                  1  0.24      0.81        0.0     16  \n",
       "1                  1  0.22      0.80        0.0     40  \n",
       "2                  1  0.22      0.80        0.0     32  \n",
       "3                  1  0.24      0.75        0.0     13  \n",
       "4                  1  0.24      0.75        0.0      1  "
      ]
     },
     "execution_count": 17,
     "metadata": {},
     "output_type": "execute_result"
    }
   ],
   "source": [
    "data.drop(['atemp'], inplace = True, axis = 1)\n",
    "data.head()"
   ]
  },
  {
   "cell_type": "code",
   "execution_count": 18,
   "id": "aa487035",
   "metadata": {},
   "outputs": [
    {
     "data": {
      "application/vnd.microsoft.datawrangler.viewer.v0+json": {
       "columns": [
        {
         "name": "index",
         "rawType": "int64",
         "type": "integer"
        },
        {
         "name": "season",
         "rawType": "category",
         "type": "unknown"
        },
        {
         "name": "year",
         "rawType": "category",
         "type": "unknown"
        },
        {
         "name": "month",
         "rawType": "category",
         "type": "unknown"
        },
        {
         "name": "hour",
         "rawType": "category",
         "type": "unknown"
        },
        {
         "name": "holiday",
         "rawType": "category",
         "type": "unknown"
        },
        {
         "name": "weekday",
         "rawType": "category",
         "type": "unknown"
        },
        {
         "name": "workingday",
         "rawType": "category",
         "type": "unknown"
        },
        {
         "name": "weather_conditions",
         "rawType": "category",
         "type": "unknown"
        },
        {
         "name": "temp",
         "rawType": "float64",
         "type": "float"
        },
        {
         "name": "humidity",
         "rawType": "float64",
         "type": "float"
        },
        {
         "name": "windspeed",
         "rawType": "float64",
         "type": "float"
        },
        {
         "name": "count",
         "rawType": "int64",
         "type": "integer"
        }
       ],
       "conversionMethod": "pd.DataFrame",
       "ref": "75ed8610-ac22-46c1-84bc-d2a104f1f772",
       "rows": [
        [
         "0",
         "1",
         "0",
         "1",
         "0",
         "0",
         "6",
         "0",
         "1",
         "0.24",
         "0.81",
         "0.0",
         "16"
        ],
        [
         "1",
         "1",
         "0",
         "1",
         "1",
         "0",
         "6",
         "0",
         "1",
         "0.22",
         "0.8",
         "0.0",
         "40"
        ],
        [
         "2",
         "1",
         "0",
         "1",
         "2",
         "0",
         "6",
         "0",
         "1",
         "0.22",
         "0.8",
         "0.0",
         "32"
        ],
        [
         "3",
         "1",
         "0",
         "1",
         "3",
         "0",
         "6",
         "0",
         "1",
         "0.24",
         "0.75",
         "0.0",
         "13"
        ],
        [
         "4",
         "1",
         "0",
         "1",
         "4",
         "0",
         "6",
         "0",
         "1",
         "0.24",
         "0.75",
         "0.0",
         "1"
        ]
       ],
       "shape": {
        "columns": 12,
        "rows": 5
       }
      },
      "text/html": [
       "<div>\n",
       "<style scoped>\n",
       "    .dataframe tbody tr th:only-of-type {\n",
       "        vertical-align: middle;\n",
       "    }\n",
       "\n",
       "    .dataframe tbody tr th {\n",
       "        vertical-align: top;\n",
       "    }\n",
       "\n",
       "    .dataframe thead th {\n",
       "        text-align: right;\n",
       "    }\n",
       "</style>\n",
       "<table border=\"1\" class=\"dataframe\">\n",
       "  <thead>\n",
       "    <tr style=\"text-align: right;\">\n",
       "      <th></th>\n",
       "      <th>season</th>\n",
       "      <th>year</th>\n",
       "      <th>month</th>\n",
       "      <th>hour</th>\n",
       "      <th>holiday</th>\n",
       "      <th>weekday</th>\n",
       "      <th>workingday</th>\n",
       "      <th>weather_conditions</th>\n",
       "      <th>temp</th>\n",
       "      <th>humidity</th>\n",
       "      <th>windspeed</th>\n",
       "      <th>count</th>\n",
       "    </tr>\n",
       "  </thead>\n",
       "  <tbody>\n",
       "    <tr>\n",
       "      <th>0</th>\n",
       "      <td>1</td>\n",
       "      <td>0</td>\n",
       "      <td>1</td>\n",
       "      <td>0</td>\n",
       "      <td>0</td>\n",
       "      <td>6</td>\n",
       "      <td>0</td>\n",
       "      <td>1</td>\n",
       "      <td>0.24</td>\n",
       "      <td>0.81</td>\n",
       "      <td>0.0</td>\n",
       "      <td>16</td>\n",
       "    </tr>\n",
       "    <tr>\n",
       "      <th>1</th>\n",
       "      <td>1</td>\n",
       "      <td>0</td>\n",
       "      <td>1</td>\n",
       "      <td>1</td>\n",
       "      <td>0</td>\n",
       "      <td>6</td>\n",
       "      <td>0</td>\n",
       "      <td>1</td>\n",
       "      <td>0.22</td>\n",
       "      <td>0.80</td>\n",
       "      <td>0.0</td>\n",
       "      <td>40</td>\n",
       "    </tr>\n",
       "    <tr>\n",
       "      <th>2</th>\n",
       "      <td>1</td>\n",
       "      <td>0</td>\n",
       "      <td>1</td>\n",
       "      <td>2</td>\n",
       "      <td>0</td>\n",
       "      <td>6</td>\n",
       "      <td>0</td>\n",
       "      <td>1</td>\n",
       "      <td>0.22</td>\n",
       "      <td>0.80</td>\n",
       "      <td>0.0</td>\n",
       "      <td>32</td>\n",
       "    </tr>\n",
       "    <tr>\n",
       "      <th>3</th>\n",
       "      <td>1</td>\n",
       "      <td>0</td>\n",
       "      <td>1</td>\n",
       "      <td>3</td>\n",
       "      <td>0</td>\n",
       "      <td>6</td>\n",
       "      <td>0</td>\n",
       "      <td>1</td>\n",
       "      <td>0.24</td>\n",
       "      <td>0.75</td>\n",
       "      <td>0.0</td>\n",
       "      <td>13</td>\n",
       "    </tr>\n",
       "    <tr>\n",
       "      <th>4</th>\n",
       "      <td>1</td>\n",
       "      <td>0</td>\n",
       "      <td>1</td>\n",
       "      <td>4</td>\n",
       "      <td>0</td>\n",
       "      <td>6</td>\n",
       "      <td>0</td>\n",
       "      <td>1</td>\n",
       "      <td>0.24</td>\n",
       "      <td>0.75</td>\n",
       "      <td>0.0</td>\n",
       "      <td>1</td>\n",
       "    </tr>\n",
       "  </tbody>\n",
       "</table>\n",
       "</div>"
      ],
      "text/plain": [
       "  season year month hour holiday weekday workingday weather_conditions  temp  \\\n",
       "0      1    0     1    0       0       6          0                  1  0.24   \n",
       "1      1    0     1    1       0       6          0                  1  0.22   \n",
       "2      1    0     1    2       0       6          0                  1  0.22   \n",
       "3      1    0     1    3       0       6          0                  1  0.24   \n",
       "4      1    0     1    4       0       6          0                  1  0.24   \n",
       "\n",
       "   humidity  windspeed  count  \n",
       "0      0.81        0.0     16  \n",
       "1      0.80        0.0     40  \n",
       "2      0.80        0.0     32  \n",
       "3      0.75        0.0     13  \n",
       "4      0.75        0.0      1  "
      ]
     },
     "execution_count": 18,
     "metadata": {},
     "output_type": "execute_result"
    }
   ],
   "source": [
    "data.drop(['datetime'], axis=1,inplace=True)\n",
    "data.head()"
   ]
  },
  {
   "cell_type": "code",
   "execution_count": 20,
   "id": "5150f874",
   "metadata": {},
   "outputs": [],
   "source": [
    "y = data['count']\n",
    "X = data.drop('count', axis = 1)\n",
    "X_train, X_test, y_train, y_test = train_test_split(X, y, test_size = 0.2, random_state=42)"
   ]
  },
  {
   "cell_type": "code",
   "execution_count": 21,
   "id": "26a418ff",
   "metadata": {},
   "outputs": [
    {
     "name": "stdout",
     "output_type": "stream",
     "text": [
      "139.4366554624435\n"
     ]
    }
   ],
   "source": [
    "model = LinearRegression()\n",
    "model.fit(X_train, y_train)\n",
    "pred = model.predict(X_test)\n",
    "mse = sklearn.metrics.mean_squared_error(y_test, pred)\n",
    "rmse = math.sqrt(mse)\n",
    "print(rmse)"
   ]
  },
  {
   "cell_type": "code",
   "execution_count": 22,
   "id": "ef811245",
   "metadata": {},
   "outputs": [
    {
     "name": "stdout",
     "output_type": "stream",
     "text": [
      "42.617160614127606\n"
     ]
    }
   ],
   "source": [
    "model_2 = RandomForestRegressor(n_estimators = 200, max_depth = 15)\n",
    "model_2.fit(X_train, y_train)\n",
    "pred = model_2.predict(X_test)\n",
    "mse = sklearn.metrics.mean_squared_error(y_test, pred)\n",
    "rmse = math.sqrt(mse)\n",
    "print(rmse)"
   ]
  },
  {
   "cell_type": "code",
   "execution_count": 23,
   "id": "1375b274",
   "metadata": {},
   "outputs": [],
   "source": [
    "pipeline = Pipeline(steps= [\n",
    "    ('model', model_2)\n",
    "])"
   ]
  },
  {
   "cell_type": "code",
   "execution_count": 24,
   "id": "ed9a660b",
   "metadata": {},
   "outputs": [
    {
     "name": "stdout",
     "output_type": "stream",
     "text": [
      "42.43686306963648\n"
     ]
    }
   ],
   "source": [
    "model = pipeline.fit(X_train, y_train)\n",
    "predictions = pipeline.predict(X_test)\n",
    "print(math.sqrt(sklearn.metrics.mean_squared_error(y_test, predictions)))"
   ]
  },
  {
   "cell_type": "code",
   "execution_count": 25,
   "id": "99ccc6ef",
   "metadata": {},
   "outputs": [
    {
     "data": {
      "text/plain": [
       "['model.pkl']"
      ]
     },
     "execution_count": 25,
     "metadata": {},
     "output_type": "execute_result"
    }
   ],
   "source": [
    "import joblib\n",
    "joblib.dump(model_2, 'model.pkl')"
   ]
  },
  {
   "cell_type": "code",
   "execution_count": 28,
   "id": "f9cf420d",
   "metadata": {},
   "outputs": [
    {
     "name": "stdout",
     "output_type": "stream",
     "text": [
      "{'predictions': [22.384255952380954]}\n"
     ]
    }
   ],
   "source": [
    "import requests\n",
    "url = 'http://127.0.0.1:5000/predict'\n",
    "data = {'features':[1.0, 0.0, 1.0, 0.0, 0.0, 6.0, 0.0, 1.0, 0.24, 0.81, 0.0]}\n",
    "response = requests.post(url=url, json=data)\n",
    "\n",
    "print(response.json())\n"
   ]
  }
 ],
 "metadata": {
  "kernelspec": {
   "display_name": "Python 3",
   "language": "python",
   "name": "python3"
  },
  "language_info": {
   "codemirror_mode": {
    "name": "ipython",
    "version": 3
   },
   "file_extension": ".py",
   "mimetype": "text/x-python",
   "name": "python",
   "nbconvert_exporter": "python",
   "pygments_lexer": "ipython3",
   "version": "3.11.4"
  }
 },
 "nbformat": 4,
 "nbformat_minor": 5
}
